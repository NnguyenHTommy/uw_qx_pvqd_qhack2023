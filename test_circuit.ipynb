{
 "cells": [
  {
   "cell_type": "code",
   "execution_count": 1,
   "id": "88f68364-f1ed-4bcd-a213-5badb4168efd",
   "metadata": {},
   "outputs": [],
   "source": [
    "import pennylane as qml\n",
    "import pennylane.numpy as np"
   ]
  },
  {
   "cell_type": "code",
   "execution_count": 2,
   "id": "12f61e32-a630-4874-b7d2-710acea76b9a",
   "metadata": {},
   "outputs": [],
   "source": [
    "from circuit import *"
   ]
  },
  {
   "cell_type": "code",
   "execution_count": 3,
   "id": "ecd30b72-95f8-4d30-83ed-d5dc5cd7f4eb",
   "metadata": {},
   "outputs": [],
   "source": [
    "interface = 'autograd'"
   ]
  },
  {
   "cell_type": "code",
   "execution_count": 4,
   "id": "db78c73e-49bf-4420-9a9e-03854cdb7f45",
   "metadata": {},
   "outputs": [],
   "source": [
    "if interface == 'autograd':\n",
    "    import pennylane.numpy as np\n",
    "    dev = qml.device(\"default.qubit\", wires=range(3))\n",
    "    params = 0.05 * np.ones(18)\n",
    "\n",
    "elif interface == 'jax':\n",
    "    import jax\n",
    "    import jax.numpy as jnp\n",
    "    # next line raises TypeError with default.qubit.jax\n",
    "    # dev = qml.device(\"default.qubit.jax\", wires=range(3))\n",
    "    dev = qml.device(\"default.qubit\", wires=range(3))\n",
    "    params = jnp.array([0.05] * 18)\n",
    "elif interface == 'torch':\n",
    "    import torch\n",
    "    dev = qml.device(\"default.qubit\", wires=range(3))\n",
    "    params = torch.tensor([0.05] * 18, requires_grad=True)"
   ]
  },
  {
   "cell_type": "code",
   "execution_count": 58,
   "id": "2c078cf3-7549-47de-95ae-f955d9440b76",
   "metadata": {},
   "outputs": [],
   "source": [
    "@qml.qnode(dev, interface=interface)\n",
    "def three_spins_forward_state(params, delta_time, n=10):\n",
    "    three_spins_circuit(params)\n",
    "    qml.ApproxTimeEvolution(hamiltonian(), delta_time, n)\n",
    "    return qml.state()\n",
    "\n",
    "@qml.qnode(dev, interface=interface)\n",
    "def three_spins_current_state(params):\n",
    "    three_spins_circuit(params)\n",
    "    return qml.state()\n",
    "\n",
    "@qml.qnode(dev, interface=interface)\n",
    "def three_spins_obvservables(params):\n",
    "    three_spins_circuit(params)\n",
    "    return [qml.expval(qml.PauliX(i)) for i in range(3)]\n"
   ]
  },
  {
   "cell_type": "code",
   "execution_count": 30,
   "id": "24bbc7fc-3cb5-4dd6-a6ed-74a7479bef2d",
   "metadata": {},
   "outputs": [
    {
     "data": {
      "text/plain": [
       "0.975326007460802"
      ]
     },
     "execution_count": 30,
     "metadata": {},
     "output_type": "execute_result"
    }
   ],
   "source": [
    "# test this works\n",
    "\n",
    "dt = 0.1\n",
    "original_state = three_spins_current_state(params)\n",
    "forward_state = three_spins_forward_state(params + 0.01, dt)\n",
    "\n",
    "qml.math.fidelity(original_state, forward_state)"
   ]
  },
  {
   "cell_type": "code",
   "execution_count": 31,
   "id": "ec9a90a2-42e5-45e4-b9fb-62113ec70849",
   "metadata": {},
   "outputs": [],
   "source": [
    "prev_params = params\n",
    "recorded_params = [params]\n",
    "\n",
    "\n",
    "def cost_function(params):\n",
    "    \n",
    "    original_state = three_spins_current_state(prev_params)\n",
    "    forward_state = three_spins_forward_state(params, dt)\n",
    "\n",
    "    fidelity = qml.math.fidelity(original_state, forward_state)\n",
    "    return 1 - fidelity\n",
    "\n",
    "\n",
    "recorded_costs = [cost_function(params)]\n"
   ]
  },
  {
   "cell_type": "code",
   "execution_count": 32,
   "id": "88db5fe1-3761-4a7b-9015-eb62747117ae",
   "metadata": {},
   "outputs": [
    {
     "data": {
      "text/plain": [
       "0.8073579522614504"
      ]
     },
     "execution_count": 32,
     "metadata": {},
     "output_type": "execute_result"
    }
   ],
   "source": [
    "cost_function(np.random.random(18))"
   ]
  },
  {
   "cell_type": "code",
   "execution_count": 33,
   "id": "b4a7fa2b-784d-4b8f-af1b-0c18d333e959",
   "metadata": {},
   "outputs": [],
   "source": [
    "\n",
    "opt = qml.GradientDescentOptimizer(stepsize=0.1)\n",
    "\n",
    "\n",
    "for n in range(max_iterations):\n",
    "    params, prev_cost = opt.step_and_cost(cost_function, params)\n",
    "    \n",
    "    recorded_costs.append(cost_function(params))\n",
    "    recorded_params.append(params)\n",
    "    \n",
    "    if recorded_costs[-1] < 0.0001:\n",
    "        break\n",
    "    "
   ]
  },
  {
   "cell_type": "code",
   "execution_count": 60,
   "id": "6519f3ab-8a53-47aa-b216-657d69b66628",
   "metadata": {},
   "outputs": [],
   "source": [
    "total_time = 2.0\n",
    "#total_time = 0.5\n",
    "dt = 0.05\n",
    "max_iterations = 50\n",
    "cost_threshold = 0.0001\n",
    "\n",
    "prev_params = params\n",
    "\n",
    "def cost_function(params):\n",
    "    \n",
    "    original_state = three_spins_current_state(prev_params)\n",
    "    forward_state = three_spins_forward_state(params, dt)\n",
    "\n",
    "    fidelity = qml.math.fidelity(original_state, forward_state)\n",
    "    return 1 - fidelity\n",
    "\n",
    "\n",
    "opt = qml.GradientDescentOptimizer(stepsize=0.1)\n",
    "\n",
    "final_costs_v_time = {}\n",
    "full_costs_v_time = {}\n",
    "final_params_v_time = {}\n",
    "full_params_v_time = {}\n",
    "failed_to_converge_times = {}\n",
    "observables = {}"
   ]
  },
  {
   "cell_type": "code",
   "execution_count": 61,
   "id": "a58da732-66bd-40a3-8ba9-e85eeef03f13",
   "metadata": {},
   "outputs": [
    {
     "name": "stdout",
     "output_type": "stream",
     "text": [
      "0.0\n",
      "0.05\n",
      "0.1\n",
      "0.15000000000000002\n",
      "0.2\n",
      "0.25\n",
      "0.30000000000000004\n",
      "0.35000000000000003\n",
      "0.4\n",
      "0.45\n",
      "0.5\n",
      "0.55\n",
      "0.6000000000000001\n",
      "0.65\n",
      "0.7000000000000001\n",
      "0.75\n",
      "0.8\n",
      "0.8500000000000001\n",
      "0.9\n",
      "0.9500000000000001\n",
      "1.0\n",
      "1.05\n",
      "1.1\n",
      "1.1500000000000001\n",
      "1.2000000000000002\n",
      "1.25\n",
      "1.3\n",
      "1.35\n",
      "1.4000000000000001\n",
      "1.4500000000000002\n",
      "1.5\n",
      "1.55\n",
      "1.6\n",
      "1.6500000000000001\n",
      "1.7000000000000002\n",
      "1.75\n",
      "1.8\n",
      "1.85\n",
      "1.9000000000000001\n",
      "1.9500000000000002\n",
      "2.0\n"
     ]
    }
   ],
   "source": [
    "\n",
    "for current_time in np.arange(0, total_time+dt, dt):\n",
    "    print(current_time)\n",
    "    \n",
    "    prev_params = params\n",
    "    recorded_params = [params]\n",
    "\n",
    "    recorded_costs = [cost_function(params)]\n",
    "\n",
    "    for n in range(max_iterations):\n",
    "        params, prev_cost = opt.step_and_cost(cost_function, params)\n",
    "\n",
    "        recorded_costs.append(cost_function(params))\n",
    "        recorded_params.append(params)\n",
    "\n",
    "        if recorded_costs[-1] <= cost_threshold:\n",
    "            break\n",
    "\n",
    "    if recorded_costs[-1] > cost_threshold:\n",
    "        failed_to_converge_times[current_time] = recorded_costs[-1]\n",
    "        \n",
    "    observables[current_time] = three_spins_obvservables(params)\n",
    "    final_costs_v_time[current_time] = recorded_costs[-1]\n",
    "    full_costs_v_time[current_time] = recorded_costs\n",
    "    final_params_v_time[current_time] = recorded_params[-1]\n",
    "    full_params_v_time[current_time] = recorded_params"
   ]
  },
  {
   "cell_type": "code",
   "execution_count": 62,
   "id": "240c7985-a7e0-4640-9a8c-5dd77beb7b7b",
   "metadata": {},
   "outputs": [
    {
     "data": {
      "text/plain": [
       "{tensor(0., requires_grad=True): 9.895369932721998e-05,\n",
       " tensor(0.05, requires_grad=True): 9.808867824001588e-05,\n",
       " tensor(0.1, requires_grad=True): 9.792681786913171e-05,\n",
       " tensor(0.15, requires_grad=True): 9.81034927226565e-05,\n",
       " tensor(0.2, requires_grad=True): 9.67727780797345e-05,\n",
       " tensor(0.25, requires_grad=True): 9.97103300224289e-05,\n",
       " tensor(0.3, requires_grad=True): 9.001122492380276e-05,\n",
       " tensor(0.35, requires_grad=True): 8.557000579734186e-05,\n",
       " tensor(0.4, requires_grad=True): 8.992439225097293e-05,\n",
       " tensor(0.45, requires_grad=True): 8.737930518643022e-05,\n",
       " tensor(0.5, requires_grad=True): 9.34988137779591e-05,\n",
       " tensor(0.55, requires_grad=True): 9.209167404600205e-05,\n",
       " tensor(0.6, requires_grad=True): 9.77433465365607e-05,\n",
       " tensor(0.65, requires_grad=True): 9.813341585374058e-05,\n",
       " tensor(0.7, requires_grad=True): 9.794438118049253e-05,\n",
       " tensor(0.75, requires_grad=True): 9.915845793462275e-05,\n",
       " tensor(0.8, requires_grad=True): 0.00010147435489971102,\n",
       " tensor(0.85, requires_grad=True): 0.00012787192142738046,\n",
       " tensor(0.9, requires_grad=True): 0.00016260150804070506,\n",
       " tensor(0.95, requires_grad=True): 0.00020083136393078682,\n",
       " tensor(1., requires_grad=True): 0.00023516940881562753,\n",
       " tensor(1.05, requires_grad=True): 0.0002596511109199673,\n",
       " tensor(1.1, requires_grad=True): 0.00027187821014240665,\n",
       " tensor(1.15, requires_grad=True): 0.00027236759697502055,\n",
       " tensor(1.2, requires_grad=True): 0.00026269813571910827,\n",
       " tensor(1.25, requires_grad=True): 0.0002442752799435288,\n",
       " tensor(1.3, requires_grad=True): 0.00021835180244011987,\n",
       " tensor(1.35, requires_grad=True): 0.00018691316439289896,\n",
       " tensor(1.4, requires_grad=True): 0.00015364664125661065,\n",
       " tensor(1.45, requires_grad=True): 0.00012423631619140618,\n",
       " tensor(1.5, requires_grad=True): 0.00010487909506151638,\n",
       " tensor(1.55, requires_grad=True): 9.848565445669255e-05,\n",
       " tensor(1.6, requires_grad=True): 0.00010246895876075968,\n",
       " tensor(1.65, requires_grad=True): 0.00011177917320970288,\n",
       " tensor(1.7, requires_grad=True): 0.0001226906642199932,\n",
       " tensor(1.75, requires_grad=True): 0.00013333952746519273,\n",
       " tensor(1.8, requires_grad=True): 0.00014280681367140335,\n",
       " tensor(1.85, requires_grad=True): 0.00015063465520803732,\n",
       " tensor(1.9, requires_grad=True): 0.0001567468395381466,\n",
       " tensor(1.95, requires_grad=True): 0.00016141090132226754,\n",
       " tensor(2., requires_grad=True): 0.00016527354504203284}"
      ]
     },
     "execution_count": 62,
     "metadata": {},
     "output_type": "execute_result"
    }
   ],
   "source": [
    "final_costs_v_time"
   ]
  },
  {
   "cell_type": "code",
   "execution_count": 63,
   "id": "9f6454f8-3128-402e-ae04-bf4e3991ce81",
   "metadata": {},
   "outputs": [
    {
     "data": {
      "text/plain": [
       "{tensor(0., requires_grad=True): tensor([ 2.36975895,  2.25945363,  2.36998356, -0.09884268, -0.09904031,\n",
       "          0.04061005,  0.10531676,  0.04074647, -0.14436526, -0.14436422,\n",
       "          2.69249898,  2.76635826,  2.69225586,  0.14994703,  0.14979034,\n",
       "         -0.20940847, -0.28741727, -0.20923141], requires_grad=True),\n",
       " tensor(0.05, requires_grad=True): tensor([ 2.41787245,  2.30468415,  2.4180981 , -0.11826233, -0.11847023,\n",
       "          0.02804776,  0.09254725,  0.02820263, -0.1594992 , -0.15950245,\n",
       "          2.73658501,  2.80788666,  2.73634215,  0.15441095,  0.15424441,\n",
       "         -0.20524315, -0.28661496, -0.20507884], requires_grad=True),\n",
       " tensor(0.1, requires_grad=True): tensor([ 2.46598599,  2.35001034,  2.46621104, -0.13675055, -0.13697065,\n",
       "          0.01787058,  0.08256127,  0.01803964, -0.17414251, -0.1741515 ,\n",
       "          2.78061964,  2.84912224,  2.78037734,  0.15613484,  0.15595801,\n",
       "         -0.20190176, -0.28700073, -0.20175   ], requires_grad=True),\n",
       " tensor(0.15, requires_grad=True): tensor([ 2.51357165,  2.39482646,  2.51379453, -0.15444433, -0.1546779 ,\n",
       "          0.01004116,  0.07545743,  0.01021975, -0.18844357, -0.18845915,\n",
       "          2.82447464,  2.88983821,  2.8242334 ,  0.15504564,  0.15485842,\n",
       "         -0.19976666, -0.28912317, -0.19962623], requires_grad=True),\n",
       " tensor(0.2, requires_grad=True): tensor([ 2.56022859,  2.43857558,  2.56044789, -0.1715902 , -0.17183784,\n",
       "          0.00416802,  0.07080239,  0.00435157, -0.2025928 , -0.20261527,\n",
       "          2.86797596,  2.92979324,  2.86773645,  0.15130359,  0.15110637,\n",
       "         -0.19892633, -0.29314361, -0.19879545], requires_grad=True),\n",
       " tensor(0.25, requires_grad=True): tensor([ 2.60551725e+00,  2.48060299e+00,  2.60573170e+00,\n",
       "         -1.88422717e-01, -1.88684223e-01, -2.50255597e-04,\n",
       "          6.79313989e-02, -6.60050218e-05, -2.16757365e-01,\n",
       "         -2.16786459e-01,  2.91083760e+00,  2.96867965e+00,\n",
       "          2.91060058e+00,  1.45084214e-01,  1.44877983e-01,\n",
       "         -1.99283969e-01, -2.98922503e-01, -1.99160509e-01], requires_grad=True),\n",
       " tensor(0.3, requires_grad=True): tensor([ 2.64998441,  2.52127124,  2.65019271, -0.2053363 , -0.20561145,\n",
       "         -0.00386221,  0.06603992, -0.00368102, -0.23122547, -0.23126097,\n",
       "          2.95353898,  3.00694681,  2.95330538,  0.13664769,  0.13643331,\n",
       "         -0.20061909, -0.30628644, -0.20050103], requires_grad=True),\n",
       " tensor(0.35, requires_grad=True): tensor([ 2.69343439,  2.56008613,  2.6936353 , -0.22252601, -0.22281403,\n",
       "         -0.00714012,  0.06445686, -0.00696546, -0.24617446, -0.24621577,\n",
       "          2.99603217,  3.04453831,  2.99580298,  0.12599172,  0.12577049,\n",
       "         -0.20270687, -0.31491596, -0.20259212], requires_grad=True),\n",
       " tensor(0.4, requires_grad=True): tensor([ 2.73567306,  2.59652086,  2.73586542, -0.24011847, -0.24041811,\n",
       "         -0.01057884,  0.06246847, -0.01041377, -0.26174897, -0.26179521,\n",
       "          3.03827451,  3.08142522,  3.0380507 ,  0.11316834,  0.11294189,\n",
       "         -0.20524663, -0.32436931, -0.20513324], requires_grad=True),\n",
       " tensor(0.45, requires_grad=True): tensor([ 2.77705419,  2.63054992,  2.77723671, -0.25833757, -0.25864755,\n",
       "         -0.01469604,  0.05943525, -0.01454329, -0.27820594, -0.27825624,\n",
       "          3.08079157,  3.11805922,  3.08057425,  0.0981623 ,  0.09793214,\n",
       "         -0.20795465, -0.33437057, -0.2078409 ], requires_grad=True),\n",
       " tensor(0.5, requires_grad=True): tensor([ 2.81739309,  2.66156084,  2.81756452, -0.27718797, -0.27750671,\n",
       "         -0.01998597,  0.05469616, -0.01984781, -0.29564845, -0.29570178,\n",
       "          3.12366188,  3.15448325,  3.12345209,  0.08108623,  0.08085396,\n",
       "         -0.21047844, -0.34442938, -0.21036299], requires_grad=True),\n",
       " tensor(0.55, requires_grad=True): tensor([ 2.85694807,  2.68930176,  2.857107  , -0.29677241, -0.29709838,\n",
       "         -0.02698799,  0.04770221, -0.0268664 , -0.31430255, -0.31435797,\n",
       "          3.16753695,  3.19113526,  3.16733592,  0.06198214,  0.06174915,\n",
       "         -0.21250071, -0.3542817 , -0.21238254], requires_grad=True),\n",
       " tensor(0.6, requires_grad=True): tensor([ 2.8954303 ,  2.71303679,  2.89557529, -0.31692114, -0.31725264,\n",
       "         -0.03618077,  0.03794664, -0.03607718, -0.33417255, -0.33422909,\n",
       "          3.21255479,  3.22798138,  3.21236357,  0.04117785,  0.04094545,\n",
       "         -0.21367614, -0.36345375, -0.21355479], requires_grad=True),\n",
       " tensor(0.65, requires_grad=True): tensor([ 2.93284078,  2.73231829,  2.93297022, -0.33752578, -0.33786121,\n",
       "         -0.04806254,  0.02512322, -0.04797804, -0.35534863, -0.35540548,\n",
       "          3.25935801,  3.26523653,  3.25917778,  0.0190002 ,  0.01876942,\n",
       "         -0.21373122, -0.3717043 , -0.21360674], requires_grad=True),\n",
       " tensor(0.7, requires_grad=True): tensor([ 2.9689561 ,  2.74666991,  2.96906825, -0.35833612, -0.35867399,\n",
       "         -0.06302756,  0.00914129, -0.06296274, -0.37780278, -0.37785935,\n",
       "          3.3085078 ,  3.30293108,  3.30833969, -0.00398539, -0.00421376,\n",
       "         -0.2124897 , -0.37879523, -0.21236273], requires_grad=True),\n",
       " tensor(0.75, requires_grad=True): tensor([ 3.0034443 ,  2.75584432,  3.00353719, -0.37904545, -0.37938446,\n",
       "         -0.08130429, -0.00977063, -0.08125927, -0.40146436, -0.40152037,\n",
       "          3.36077942,  3.34113689,  3.36062462, -0.02697783, -0.02720331,\n",
       "         -0.20996713, -0.38461351, -0.20983892], requires_grad=True),\n",
       " tensor(0.8, requires_grad=True): tensor([ 3.03532416,  2.75981785,  3.03539503, -0.39940125, -0.39974035,\n",
       "         -0.10264917, -0.03068189, -0.10262358, -0.42636131, -0.4264171 ,\n",
       "          3.41833983,  3.38061377,  3.41820054, -0.04846028, -0.04868256,\n",
       "         -0.20662837, -0.38946057, -0.20650121], requires_grad=True),\n",
       " tensor(0.85, requires_grad=True): tensor([ 3.06456792,  2.75996933,  3.06461508, -0.4187177 , -0.41905646,\n",
       "         -0.12608569, -0.05344255, -0.12607759, -0.45195451, -0.45201081,\n",
       "          3.47828196,  3.42070883,  3.47815722, -0.06765706, -0.06787592,\n",
       "         -0.20328336, -0.39302164, -0.20315927], requires_grad=True),\n",
       " tensor(0.9, requires_grad=True): tensor([ 3.09130111,  2.75770732,  3.09132307, -0.43688564, -0.43722418,\n",
       "         -0.15077934, -0.07733398, -0.15078627, -0.47833166, -0.47838974,\n",
       "          3.54074619,  3.46223731,  3.54063491, -0.08383466, -0.08404991,\n",
       "         -0.20061971, -0.39597353, -0.20050057], requires_grad=True),\n",
       " tensor(0.95, requires_grad=True): tensor([ 3.11585182,  2.75455808,  3.11584753, -0.45391666, -0.45425564,\n",
       "         -0.17578781, -0.10167373, -0.17580693, -0.50569422, -0.50575584,\n",
       "          3.60578288,  3.50599623,  3.60568399, -0.09655613, -0.09676756,\n",
       "         -0.19921601, -0.3991307 , -0.19910334], requires_grad=True),\n",
       " tensor(1., requires_grad=True): tensor([ 3.1387257 ,  2.75197163,  3.13869472, -0.46992408, -0.47026454,\n",
       "         -0.20019657, -0.12588032, -0.20022479, -0.53432775, -0.53439503,\n",
       "          3.67333748,  3.55257291,  3.6732501 , -0.10573665, -0.10594394,\n",
       "         -0.19941554, -0.4032455 , -0.19931042], requires_grad=True),\n",
       " tensor(1.05, requires_grad=True): tensor([ 3.16053093,  2.75115989,  3.1604735 , -0.48508723, -0.48543041,\n",
       "         -0.22324275, -0.14953608, -0.22327678, -0.56455368, -0.56462889,\n",
       "          3.74325776,  3.60224583,  3.74318124, -0.11158667, -0.11178939,\n",
       "         -0.20126911, -0.40882735, -0.20117209], requires_grad=True),\n",
       " tensor(1.1, requires_grad=True): tensor([ 3.18188688,  2.75299551,  3.18180393, -0.49961144, -0.49995869,\n",
       "         -0.24439855, -0.17244131, -0.24443508, -0.59668518, -0.59677063,\n",
       "          3.81532392,  3.6549928 ,  3.81525785, -0.11447331, -0.11467101,\n",
       "         -0.20455405, -0.41605104, -0.20446513], requires_grad=True),\n",
       " tensor(1.15, requires_grad=True): tensor([ 3.20334895,  2.75796555,  3.20324199, -0.51369205, -0.51404467,\n",
       "         -0.26340992, -0.19465088, -0.26344573, -0.63099943, -0.63109724,\n",
       "          3.88929507,  3.71056307,  3.88923918, -0.11476417, -0.11495643,\n",
       "         -0.20884216, -0.42475551, -0.20876074], requires_grad=True),\n",
       " tensor(1.2, requires_grad=True): tensor([ 3.22536114,  2.76614739,  3.2252321 , -0.52747871, -0.52783785,\n",
       "         -0.28030457, -0.21649141, -0.28033666, -0.66771634, -0.66782832,\n",
       "          3.96496225,  3.76855744,  3.96491641, -0.11270762, -0.11289417,\n",
       "         -0.21358256, -0.43448439, -0.21350742], requires_grad=True),\n",
       " tensor(1.25, requires_grad=True): tensor([ 3.24822916,  2.77717351,  3.24808019, -0.54102615, -0.54139281,\n",
       "         -0.29538354, -0.2385576 , -0.29540924, -0.7069551 , -0.70708267,\n",
       "          4.0421981 ,  3.82848376,  4.04216227, -0.10837289, -0.10855368,\n",
       "         -0.2181819 , -0.4445218 , -0.21811121], requires_grad=True),\n",
       " tensor(1.3, requires_grad=True): tensor([ 3.27210219,  2.79018264,  3.27193543, -0.5542178 , -0.55459276,\n",
       "         -0.30919623, -0.26167171, -0.30921339, -0.74863353, -0.74877767,\n",
       "          4.12099015,  3.88979035,  4.12096436, -0.10165031, -0.1018256 ,\n",
       "         -0.22208085, -0.45391593, -0.2220122 ], requires_grad=True),\n",
       " tensor(1.35, requires_grad=True): tensor([ 3.29695644,  2.80381401,  3.29677382, -0.56666741, -0.56705133,\n",
       "         -0.32248331, -0.28676733, -0.32249034, -0.79228855, -0.79244975,\n",
       "          4.20143532,  3.95191362,  4.20141972, -0.09230847, -0.09247892,\n",
       "         -0.22482375, -0.46153562, -0.22475417], requires_grad=True),\n",
       " tensor(1.4, requires_grad=True): tensor([ 3.32257607,  2.81636609,  3.3223791 , -0.57764788, -0.57804129,\n",
       "         -0.33606944, -0.31465622, -0.3360654 , -0.83685035, -0.83702866,\n",
       "          4.28366905,  4.01439417,  4.28366391, -0.0801187 , -0.08028547,\n",
       "         -0.22610151, -0.46624986, -0.22602756], requires_grad=True),\n",
       " tensor(1.45, requires_grad=True): tensor([ 3.34852576,  2.8262334 ,  3.34831528, -0.58614904, -0.58655243,\n",
       "         -0.35070391, -0.34570493, -0.35068849, -0.88052258, -0.88071758,\n",
       "          4.367729  ,  4.0770686 ,  4.3677347 , -0.06505326, -0.06521804,\n",
       "         -0.22574439, -0.46729055, -0.22566228], requires_grad=True),\n",
       " tensor(1.5, requires_grad=True): tensor([ 3.37413112,  2.832528  ,  3.37390717, -0.59115312, -0.59156699,\n",
       "         -0.36687832, -0.37959882, -0.36685176, -0.92102031, -0.92123114,\n",
       "          4.45342658,  4.14020219,  4.45344354, -0.04747687, -0.04764194,\n",
       "         -0.22368124, -0.46465651, -0.22358704], requires_grad=True),\n",
       " tensor(1.55, requires_grad=True): tensor([ 3.39853425,  2.83547398,  3.39829603, -0.59204434, -0.5924693 ,\n",
       "         -0.38469348, -0.41542871, -0.38465636, -0.9562323 , -0.95645769,\n",
       "          4.54034758,  4.20436397,  4.54037616, -0.02814089, -0.02830913,\n",
       "         -0.21993238, -0.45918787, -0.21982242], requires_grad=True),\n",
       " tensor(1.6, requires_grad=True): tensor([ 3.42087686,  2.83622269,  3.42062306, -0.5888663 , -0.58930312,\n",
       "         -0.40385934, -0.45207771, -0.40381227, -0.98490194, -0.98514036,\n",
       "          4.62800415,  4.27009442,  4.62804454, -0.00791495, -0.0080899 ,\n",
       "         -0.21467114, -0.45214994, -0.21454257], requires_grad=True),\n",
       " tensor(1.65, requires_grad=True): tensor([ 3.44053996,  2.83628047,  3.44026923, -0.5822361 , -0.58268564,\n",
       "         -0.42383048, -0.48858761, -0.42377394, -1.00683028, -1.0070801 ,\n",
       "          4.71600105,  4.33767076,  4.71605324,  0.01252562,  0.01233978,\n",
       "         -0.20827993, -0.44469441, -0.20813122], requires_grad=True),\n",
       " tensor(1.7, requires_grad=True): tensor([ 3.45729668,  2.83701278,  3.45700832, -0.57303951, -0.57350264,\n",
       "         -0.4439865 , -0.52428915, -0.44392075, -1.02260982, -1.02286952,\n",
       "          4.80409241,  4.40711014,  4.80415622,  0.03284768,  0.03264623,\n",
       "         -0.20130581, -0.43760089, -0.20113701], requires_grad=True),\n",
       " tensor(1.75, requires_grad=True): tensor([ 3.47131201,  2.83942627,  3.47100646, -0.56214472, -0.56262201,\n",
       "         -0.46377191, -0.5587538 , -0.46369727, -1.03323246, -1.03350069,\n",
       "          4.89214026,  4.47828454,  4.89221539,  0.05305728,  0.05283525,\n",
       "         -0.19432305, -0.43129783, -0.19413583], requires_grad=True),\n",
       " tensor(1.8, requires_grad=True): tensor([ 3.48303091,  2.84416117,  3.48270987, -0.5502492 , -0.55074068,\n",
       "         -0.48276725, -0.59169637, -0.48268446, -1.03979965, -1.04007523,\n",
       "          4.98004509,  4.55100943,  4.98013105,  0.07343901,  0.07319187,\n",
       "         -0.18778793, -0.42597327, -0.18758554], requires_grad=True),\n",
       " tensor(1.85, requires_grad=True): tensor([ 3.49303609,  2.85158028,  3.49270228, -0.53784946, -0.53835441,\n",
       "         -0.50070018, -0.62289221, -0.50061083, -1.0433747 , -1.04365657,\n",
       "          5.0676934 ,  4.62507453,  5.06778951,  0.09448751,  0.09421206,\n",
       "         -0.18195229, -0.42166036, -0.18173952], requires_grad=True),\n",
       " tensor(1.9, requires_grad=True): tensor([ 3.50193629,  2.86188087,  3.50159272, -0.52527914, -0.52579604,\n",
       "         -0.51741938, -0.6521205 , -0.51732617, -1.04494159, -1.04522871,\n",
       "          5.15493111,  4.70023989,  5.15503658,  0.11684355,  0.11653927,\n",
       "         -0.17684445, -0.41827276, -0.17662778], requires_grad=True),\n",
       " tensor(1.95, requires_grad=True): tensor([ 3.51030637,  2.87519346,  3.50995536, -0.51276818, -0.51329486,\n",
       "         -0.53285352, -0.67912812, -0.53276024, -1.04542645, -1.04571789,\n",
       "          5.24155483,  4.77622237,  5.24166901,  0.14123211,  0.14090224,\n",
       "         -0.17228986, -0.41559786, -0.17207738], requires_grad=True),\n",
       " tensor(2., requires_grad=True): tensor([ 3.51867287,  2.89165202,  3.51831493, -0.50049686, -0.50103086,\n",
       "         -0.54697053, -0.70361169, -0.54688158, -1.04574727, -1.04604252,\n",
       "          5.3273126 ,  4.85268546,  5.32743536,  0.16838705,  0.16803895,\n",
       "         -0.16794134, -0.41325933, -0.16774201], requires_grad=True)}"
      ]
     },
     "execution_count": 63,
     "metadata": {},
     "output_type": "execute_result"
    }
   ],
   "source": [
    "final_params_v_time"
   ]
  },
  {
   "cell_type": "code",
   "execution_count": 64,
   "id": "a4a6bfb6-6235-48d3-b891-f8aaf1ae6e05",
   "metadata": {},
   "outputs": [
    {
     "data": {
      "text/plain": [
       "{tensor(0., requires_grad=True): tensor([-0.0413367 ,  0.00088357, -0.04127006], requires_grad=True),\n",
       " tensor(0.05, requires_grad=True): tensor([-0.04555256, -0.00424789, -0.04548008], requires_grad=True),\n",
       " tensor(0.1, requires_grad=True): tensor([-0.04885557, -0.00848333, -0.04877899], requires_grad=True),\n",
       " tensor(0.15, requires_grad=True): tensor([-0.05123607, -0.01146091, -0.051157  ], requires_grad=True),\n",
       " tensor(0.2, requires_grad=True): tensor([-0.05267184, -0.01294866, -0.05259202], requires_grad=True),\n",
       " tensor(0.25, requires_grad=True): tensor([-0.05318195, -0.01281627, -0.05310333], requires_grad=True),\n",
       " tensor(0.3, requires_grad=True): tensor([-0.05300721, -0.01161802, -0.05293145], requires_grad=True),\n",
       " tensor(0.35, requires_grad=True): tensor([-0.05230895, -0.00953616, -0.05223759], requires_grad=True),\n",
       " tensor(0.4, requires_grad=True): tensor([-0.05126474, -0.00678889, -0.05119907], requires_grad=True),\n",
       " tensor(0.45, requires_grad=True): tensor([-0.05014186, -0.00391968, -0.05008257], requires_grad=True),\n",
       " tensor(0.5, requires_grad=True): tensor([-0.04910006, -0.00114327, -0.04904747], requires_grad=True),\n",
       " tensor(0.55, requires_grad=True): tensor([-0.04830526,  0.00108482, -0.04825905], requires_grad=True),\n",
       " tensor(0.6, requires_grad=True): tensor([-0.04779223,  0.00267302, -0.04775178], requires_grad=True),\n",
       " tensor(0.65, requires_grad=True): tensor([-0.04750222,  0.00337165, -0.0474665 ], requires_grad=True),\n",
       " tensor(0.7, requires_grad=True): tensor([-0.04723539,  0.00309088, -0.0472032 ], requires_grad=True),\n",
       " tensor(0.75, requires_grad=True): tensor([-0.04664953,  0.00181732, -0.04661964], requires_grad=True),\n",
       " tensor(0.8, requires_grad=True): tensor([-0.04514998, -0.00037526, -0.04512128], requires_grad=True),\n",
       " tensor(0.85, requires_grad=True): tensor([-0.04323529, -0.0027394 , -0.04320701], requires_grad=True),\n",
       " tensor(0.9, requires_grad=True): tensor([-0.04076379, -0.0051436 , -0.04073514], requires_grad=True),\n",
       " tensor(0.95, requires_grad=True): tensor([-0.03762774, -0.00739061, -0.03759789], requires_grad=True),\n",
       " tensor(1., requires_grad=True): tensor([-0.03378391, -0.00926311, -0.03375204], requires_grad=True),\n",
       " tensor(1.05, requires_grad=True): tensor([-0.0292628 , -0.01057104, -0.02922808], requires_grad=True),\n",
       " tensor(1.1, requires_grad=True): tensor([-0.02415708, -0.01117528, -0.02411871], requires_grad=True),\n",
       " tensor(1.15, requires_grad=True): tensor([-0.01860273, -0.01098622, -0.01855995], requires_grad=True),\n",
       " tensor(1.2, requires_grad=True): tensor([-0.0127651 , -0.00995514, -0.01271719], requires_grad=True),\n",
       " tensor(1.25, requires_grad=True): tensor([-0.00683154, -0.0080792 , -0.00677788], requires_grad=True),\n",
       " tensor(1.3, requires_grad=True): tensor([-0.00100048, -0.00543662, -0.00094053], requires_grad=True),\n",
       " tensor(1.35, requires_grad=True): tensor([ 0.00454521, -0.00226081,  0.00461178], requires_grad=True),\n",
       " tensor(1.4, requires_grad=True): tensor([0.00967842, 0.00096868, 0.00975171], requires_grad=True),\n",
       " tensor(1.45, requires_grad=True): tensor([0.01435632, 0.00352392, 0.01443609], requires_grad=True),\n",
       " tensor(1.5, requires_grad=True): tensor([0.01860349, 0.00465721, 0.01868903], requires_grad=True),\n",
       " tensor(1.55, requires_grad=True): tensor([0.02244586, 0.00397092, 0.02253595], requires_grad=True),\n",
       " tensor(1.6, requires_grad=True): tensor([0.02584715, 0.00155922, 0.02594008], requires_grad=True),\n",
       " tensor(1.65, requires_grad=True): tensor([ 0.02871366, -0.00219667,  0.02880738], requires_grad=True),\n",
       " tensor(1.7, requires_grad=True): tensor([ 0.03096382, -0.00689075,  0.0310562 ], requires_grad=True),\n",
       " tensor(1.75, requires_grad=True): tensor([ 0.03259139, -0.01220454,  0.03268037], requires_grad=True),\n",
       " tensor(1.8, requires_grad=True): tensor([ 0.03367483, -0.01790563,  0.03375848], requires_grad=True),\n",
       " tensor(1.85, requires_grad=True): tensor([ 0.03434454, -0.02381778,  0.03442101], requires_grad=True),\n",
       " tensor(1.9, requires_grad=True): tensor([ 0.03474342, -0.02979685,  0.0348109 ], requires_grad=True),\n",
       " tensor(1.95, requires_grad=True): tensor([ 0.03500353, -0.03571258,  0.03506059], requires_grad=True),\n",
       " tensor(2., requires_grad=True): tensor([ 0.0352431 , -0.04142971,  0.03528921], requires_grad=True)}"
      ]
     },
     "execution_count": 64,
     "metadata": {},
     "output_type": "execute_result"
    }
   ],
   "source": [
    "observables"
   ]
  },
  {
   "cell_type": "code",
   "execution_count": 66,
   "id": "f45144ae-4dd4-470c-975f-2392fc80484d",
   "metadata": {},
   "outputs": [],
   "source": [
    "import matplotlib.pyplot as plt"
   ]
  },
  {
   "cell_type": "code",
   "execution_count": 69,
   "id": "f43dc43e-68f9-4f34-97dc-704b5ccd667f",
   "metadata": {},
   "outputs": [],
   "source": [
    "t = observables.keys()\n",
    "v = observables.values()\n"
   ]
  },
  {
   "cell_type": "code",
   "execution_count": 71,
   "id": "1b82ed23-1201-4be3-b575-114a83191493",
   "metadata": {},
   "outputs": [
    {
     "data": {
      "text/plain": [
       "[<matplotlib.lines.Line2D at 0x7f81f5cd83d0>,\n",
       " <matplotlib.lines.Line2D at 0x7f81f5cd8520>,\n",
       " <matplotlib.lines.Line2D at 0x7f81f5cd8550>]"
      ]
     },
     "execution_count": 71,
     "metadata": {},
     "output_type": "execute_result"
    },
    {
     "data": {
      "image/png": "[encoded data removed]",
      "text/plain": [
       "<Figure size 640x480 with 1 Axes>"
      ]
     },
     "metadata": {},
     "output_type": "display_data"
    }
   ],
   "source": [
    "# expectation value of pauliX on qubit 0, 1 and 2 versus time.\n",
    "\n",
    "plt.plot(t,v)"
   ]
  },
  {
   "cell_type": "code",
   "execution_count": null,
   "id": "57315fa9-18b6-4e38-ad0b-6012838262a4",
   "metadata": {},
   "outputs": [],
   "source": []
  }
 ],
 "metadata": {
  "kernelspec": {
   "display_name": "Python 3 (ipykernel)",
   "language": "python",
   "name": "python3"
  },
  "language_info": {
   "codemirror_mode": {
    "name": "ipython",
    "version": 3
   },
   "file_extension": ".py",
   "mimetype": "text/x-python",
   "name": "python",
   "nbconvert_exporter": "python",
   "pygments_lexer": "ipython3",
   "version": "3.10.9"
  }
 },
 "nbformat": 4,
 "nbformat_minor": 5
}
