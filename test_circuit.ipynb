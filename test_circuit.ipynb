{
 "cells": [
  {
   "cell_type": "code",
   "execution_count": 1,
   "id": "29a3fb1b-afd7-45b7-ae7a-9506012b7f52",
   "metadata": {},
   "outputs": [],
   "source": [
    "%load_ext autoreload\n",
    "%autoreload 2"
   ]
  },
  {
   "cell_type": "code",
   "execution_count": 2,
   "id": "88f68364-f1ed-4bcd-a213-5badb4168efd",
   "metadata": {},
   "outputs": [],
   "source": [
    "import pennylane as qml\n",
    "import pennylane.numpy as np"
   ]
  },
  {
   "cell_type": "code",
   "execution_count": 3,
   "id": "12f61e32-a630-4874-b7d2-710acea76b9a",
   "metadata": {},
   "outputs": [],
   "source": [
    "from circuit"
   ]
  },
  {
   "cell_type": "code",
   "execution_count": 4,
   "id": "ecd30b72-95f8-4d30-83ed-d5dc5cd7f4eb",
   "metadata": {},
   "outputs": [],
   "source": [
    "interface = 'autograd'"
   ]
  },
  {
   "cell_type": "code",
   "execution_count": 45,
   "id": "db78c73e-49bf-4420-9a9e-03854cdb7f45",
   "metadata": {},
   "outputs": [],
   "source": [
    "if interface == 'autograd':\n",
    "    import pennylane.numpy as np\n",
    "    dev = qml.device(\"default.qubit\", wires=range(3))\n",
    "    def reset_params():\n",
    "        return 0.05 * np.ones(18)\n",
    "\n",
    "elif interface == 'jax':\n",
    "    import jax\n",
    "    import jax.numpy as jnp\n",
    "    # next line raises TypeError with default.qubit.jax\n",
    "    # dev = qml.device(\"default.qubit.jax\", wires=range(3))\n",
    "    dev = qml.device(\"default.qubit\", wires=range(3))\n",
    "    def reset_params():\n",
    "        return jnp.array([0.05] * 18)\n",
    "elif interface == 'torch':\n",
    "    import torch\n",
    "    dev = qml.device(\"default.qubit\", wires=range(3))\n",
    "    def reset_params():\n",
    "        return torch.tensor([0.05] * 18, requires_grad=True)"
   ]
  },
  {
   "cell_type": "code",
   "execution_count": 6,
   "id": "2c078cf3-7549-47de-95ae-f955d9440b76",
   "metadata": {},
   "outputs": [],
   "source": [
    "@qml.qnode(dev, interface=interface)\n",
    "def three_spins_forward_state(params, delta_time, n=10):\n",
    "    three_spins_circuit(params)\n",
    "    qml.ApproxTimeEvolution(hamiltonian(), delta_time, n)\n",
    "    return qml.state()\n",
    "\n",
    "@qml.qnode(dev, interface=interface)\n",
    "def three_spins_current_state(params):\n",
    "    three_spins_circuit(params)\n",
    "    return qml.state()\n",
    "\n",
    "@qml.qnode(dev, interface=interface)\n",
    "def three_spins_obvservables(params):\n",
    "    three_spins_circuit(params)\n",
    "    return [qml.expval(qml.PauliX(i)) for i in range(3)]\n"
   ]
  },
  {
   "cell_type": "code",
   "execution_count": 46,
   "id": "24bbc7fc-3cb5-4dd6-a6ed-74a7479bef2d",
   "metadata": {},
   "outputs": [
    {
     "data": {
      "text/plain": [
       "0.9724868837244939"
      ]
     },
     "execution_count": 46,
     "metadata": {},
     "output_type": "execute_result"
    }
   ],
   "source": [
    "# test this works\n",
    "params = reset_params()\n",
    "dt = 0.1\n",
    "original_state = three_spins_current_state(params)\n",
    "forward_state = three_spins_forward_state(params + 0.01, dt)\n",
    "\n",
    "qml.math.fidelity(original_state, forward_state)"
   ]
  },
  {
   "cell_type": "code",
   "execution_count": 47,
   "id": "ec9a90a2-42e5-45e4-b9fb-62113ec70849",
   "metadata": {},
   "outputs": [],
   "source": [
    "prev_params = params\n",
    "\n",
    "def cost_function(params):\n",
    "    \n",
    "    original_state = three_spins_current_state(prev_params)\n",
    "    forward_state = three_spins_forward_state(params, dt)\n",
    "\n",
    "    fidelity = qml.math.fidelity(original_state, forward_state)\n",
    "    return 1 - fidelity\n",
    "\n",
    "\n",
    "recorded_costs = [cost_function(params)]\n"
   ]
  },
  {
   "cell_type": "code",
   "execution_count": 48,
   "id": "88db5fe1-3761-4a7b-9015-eb62747117ae",
   "metadata": {},
   "outputs": [
    {
     "data": {
      "text/plain": [
       "0.7087283866669527"
      ]
     },
     "execution_count": 48,
     "metadata": {},
     "output_type": "execute_result"
    }
   ],
   "source": [
    "prev_params = params\n",
    "cost_function(np.random.random(18))"
   ]
  },
  {
   "cell_type": "code",
   "execution_count": 68,
   "id": "39f3c3ae-a6ad-4974-939c-c1d12e59cbf2",
   "metadata": {},
   "outputs": [],
   "source": [
    "total_time = 2.0\n",
    "#total_time = 0.5\n",
    "dt = 0.05\n",
    "max_iterations = 500\n",
    "cost_threshold = 0.0001\n",
    "n_qubits = 3\n",
    "\n",
    "prev_params = reset_params()\n",
    "params = reset_params()\n"
   ]
  },
  {
   "cell_type": "code",
   "execution_count": 69,
   "id": "b8b7d5dd-d91f-4057-b8ac-c9ec374257df",
   "metadata": {},
   "outputs": [],
   "source": [
    "opt = qml.GradientDescentOptimizer(stepsize=0.1)\n",
    "\n",
    "final_costs_v_time = []\n",
    "full_costs_v_time = []\n",
    "final_params_v_time = []\n",
    "full_params_v_time = []\n",
    "failed_to_converge_times = {}\n",
    "number_of_iterations_to_converge = []\n",
    "observables = []\n",
    "time = []"
   ]
  },
  {
   "cell_type": "code",
   "execution_count": 70,
   "id": "a58da732-66bd-40a3-8ba9-e85eeef03f13",
   "metadata": {},
   "outputs": [
    {
     "name": "stdout",
     "output_type": "stream",
     "text": [
      "0.0\n",
      "21 iterations to converge\n",
      "0.05\n",
      "21 iterations to converge\n",
      "0.1\n",
      "21 iterations to converge\n",
      "0.15000000000000002\n",
      "21 iterations to converge\n",
      "0.2\n",
      "21 iterations to converge\n",
      "0.25\n",
      "21 iterations to converge\n",
      "0.30000000000000004\n",
      "21 iterations to converge\n",
      "0.35000000000000003\n",
      "21 iterations to converge\n",
      "0.4\n",
      "21 iterations to converge\n",
      "0.45\n",
      "21 iterations to converge\n",
      "0.5\n",
      "21 iterations to converge\n",
      "0.55\n",
      "20 iterations to converge\n",
      "0.6000000000000001\n",
      "20 iterations to converge\n",
      "0.65\n",
      "20 iterations to converge\n",
      "0.7000000000000001\n",
      "20 iterations to converge\n",
      "0.75\n",
      "20 iterations to converge\n",
      "0.8\n",
      "21 iterations to converge\n",
      "0.8500000000000001\n",
      "21 iterations to converge\n",
      "0.9\n",
      "21 iterations to converge\n",
      "0.9500000000000001\n",
      "21 iterations to converge\n",
      "1.0\n",
      "21 iterations to converge\n",
      "1.05\n",
      "21 iterations to converge\n",
      "1.1\n",
      "22 iterations to converge\n",
      "1.1500000000000001\n",
      "22 iterations to converge\n",
      "1.2000000000000002\n",
      "22 iterations to converge\n",
      "1.25\n",
      "23 iterations to converge\n",
      "1.3\n",
      "24 iterations to converge\n",
      "1.35\n",
      "25 iterations to converge\n",
      "1.4000000000000001\n",
      "27 iterations to converge\n",
      "1.4500000000000002\n",
      "29 iterations to converge\n",
      "1.5\n",
      "31 iterations to converge\n",
      "1.55\n",
      "34 iterations to converge\n",
      "1.6\n",
      "37 iterations to converge\n",
      "1.6500000000000001\n",
      "38 iterations to converge\n",
      "1.7000000000000002\n",
      "39 iterations to converge\n",
      "1.75\n",
      "40 iterations to converge\n",
      "1.8\n",
      "41 iterations to converge\n",
      "1.85\n",
      "43 iterations to converge\n",
      "1.9000000000000001\n",
      "47 iterations to converge\n",
      "1.9500000000000002\n",
      "51 iterations to converge\n",
      "2.0\n",
      "53 iterations to converge\n"
     ]
    }
   ],
   "source": [
    "\n",
    "for current_time in np.arange(0, total_time+dt, dt):\n",
    "    print(current_time)\n",
    "    \n",
    "    prev_params = params\n",
    "    recorded_params = [params]\n",
    "\n",
    "    recorded_costs = [cost_function(params)]\n",
    "\n",
    "    for n in range(max_iterations):\n",
    "        params, prev_cost = opt.step_and_cost(cost_function, params)\n",
    "\n",
    "        recorded_costs.append(cost_function(params))\n",
    "        recorded_params.append(params)\n",
    "\n",
    "        if recorded_costs[-1] <= cost_threshold:\n",
    "            break\n",
    "\n",
    "    print(f'{n} iterations to converge')\n",
    "    if recorded_costs[-1] > cost_threshold:\n",
    "        failed_to_converge_times[current_time] = recorded_costs[-1]\n",
    "        \n",
    "    time.append(current_time)\n",
    "    observables.append(three_spins_obvservables(params))\n",
    "    final_costs_v_time.append(recorded_costs[-1])\n",
    "    full_costs_v_time.append(recorded_costs)\n",
    "    final_params_v_time.append(recorded_params[-1])\n",
    "    full_params_v_time.append(recorded_params)"
   ]
  },
  {
   "cell_type": "code",
   "execution_count": 71,
   "id": "240c7985-a7e0-4640-9a8c-5dd77beb7b7b",
   "metadata": {},
   "outputs": [
    {
     "data": {
      "text/plain": [
       "[8.534379615643406e-05,\n",
       " 8.667242128646002e-05,\n",
       " 8.876092307064098e-05,\n",
       " 9.091856832754708e-05,\n",
       " 9.261565155893603e-05,\n",
       " 9.352678952878613e-05,\n",
       " 9.348102833117711e-05,\n",
       " 9.241832097139913e-05,\n",
       " 9.039041656722091e-05,\n",
       " 8.75980686279032e-05,\n",
       " 8.443131202739984e-05,\n",
       " 9.894863084991545e-05,\n",
       " 9.676568034766575e-05,\n",
       " 9.597131249272639e-05,\n",
       " 9.67639465283554e-05,\n",
       " 9.888165880111988e-05,\n",
       " 8.395080583423198e-05,\n",
       " 8.660930468407102e-05,\n",
       " 8.896338784925018e-05,\n",
       " 9.10748030287234e-05,\n",
       " 9.330826443443296e-05,\n",
       " 9.618292579050003e-05,\n",
       " 8.359517447065201e-05,\n",
       " 8.89659204499349e-05,\n",
       " 9.658740016971201e-05,\n",
       " 9.146477016375165e-05,\n",
       " 9.066145654379465e-05,\n",
       " 9.395956918012427e-05,\n",
       " 9.075883866360712e-05,\n",
       " 9.269475771700453e-05,\n",
       " 9.754434868647355e-05,\n",
       " 9.647609828444814e-05,\n",
       " 9.510174832694229e-05,\n",
       " 9.976661648258833e-05,\n",
       " 9.963122868028584e-05,\n",
       " 9.778948621630423e-05,\n",
       " 9.778726478948396e-05,\n",
       " 9.888968625482164e-05,\n",
       " 9.859160616576546e-05,\n",
       " 9.821308443869192e-05,\n",
       " 9.849099214298551e-05]"
      ]
     },
     "execution_count": 71,
     "metadata": {},
     "output_type": "execute_result"
    }
   ],
   "source": [
    "final_costs_v_time"
   ]
  },
  {
   "cell_type": "code",
   "execution_count": 72,
   "id": "50e757e2-c862-470e-bc82-9d55b0053894",
   "metadata": {},
   "outputs": [
    {
     "data": {
      "text/plain": [
       "{}"
      ]
     },
     "execution_count": 72,
     "metadata": {},
     "output_type": "execute_result"
    }
   ],
   "source": [
    "failed_to_converge_times"
   ]
  },
  {
   "cell_type": "code",
   "execution_count": 73,
   "id": "9f6454f8-3128-402e-ae04-bf4e3991ce81",
   "metadata": {},
   "outputs": [
    {
     "data": {
      "text/plain": [
       "[tensor([0.09527442, 0.09469498, 0.09527442, 0.048075  , 0.048075  ,\n",
       "         0.04356784, 0.03662968, 0.04356784, 0.04390573, 0.04390573,\n",
       "         0.09581645, 0.09718586, 0.09581645, 0.0429545 , 0.0429545 ,\n",
       "         0.04803393, 0.0456511 , 0.04803393], requires_grad=True),\n",
       " tensor([0.14055842, 0.1394524 , 0.14055842, 0.04514624, 0.04514624,\n",
       "         0.03770302, 0.02415901, 0.03770302, 0.03771833, 0.03771833,\n",
       "         0.1415612 , 0.14412735, 0.1415612 , 0.03529684, 0.03529684,\n",
       "         0.0461272 , 0.04102808, 0.0461272 ], requires_grad=True),\n",
       " tensor([0.18585476, 0.18427512, 0.18585476, 0.04140823, 0.04140823,\n",
       "         0.0325213 , 0.01279959, 0.0325213 , 0.03155293, 0.03155293,\n",
       "         0.18723621, 0.19080429, 0.18723621, 0.02720283, 0.02720283,\n",
       "         0.0443654 , 0.03629463, 0.0443654 ], requires_grad=True),\n",
       " tensor([0.23116305, 0.22914746, 0.23116305, 0.03705965, 0.03705965,\n",
       "         0.0280684 , 0.00261193, 0.0280684 , 0.02551431, 0.02551431,\n",
       "         0.23284634, 0.23721042, 0.23284634, 0.01881745, 0.01881745,\n",
       "         0.04277624, 0.03149852, 0.04277624], requires_grad=True),\n",
       " tensor([ 0.27647998,  0.27404041,  0.27647998,  0.03227633,  0.03227633,\n",
       "          0.02433464, -0.00646484,  0.02433464,  0.01968073,  0.01968073,\n",
       "          0.27839639,  0.2833446 ,  0.27839639,  0.01022842,  0.01022842,\n",
       "          0.0413443 ,  0.02660097,  0.0413443 ], requires_grad=True),\n",
       " tensor([ 0.32180003,  0.31891801,  0.32180003,  0.0271963 ,  0.0271963 ,\n",
       "          0.02127263, -0.01457752,  0.02127263,  0.01409703,  0.01409703,\n",
       "          0.32388928,  0.32920485,  0.32388928,  0.0014631 ,  0.0014631 ,\n",
       "          0.0400281 ,  0.02151205,  0.0400281 ], requires_grad=True),\n",
       " tensor([ 0.36711626,  0.36374305,  0.36711626,  0.02191328,  0.02191328,\n",
       "          0.01881124, -0.02193058,  0.01881124,  0.00877325,  0.00877325,\n",
       "          0.36932539,  0.37478562,  0.36932539, -0.00749931, -0.00749931,\n",
       "          0.03877394,  0.01612105,  0.03877394], requires_grad=True),\n",
       " tensor([ 0.41242088,  0.40848127,  0.41242088,  0.01647426,  0.01647426,\n",
       "          0.0168641 , -0.02876833,  0.0168641 ,  0.00368518,  0.00368518,\n",
       "          0.41470279,  0.42007749,  0.41470279, -0.01670865, -0.01670865,\n",
       "          0.03752533,  0.01031955,  0.03752533], requires_grad=True),\n",
       " tensor([ 0.45770564,  0.45310477,  0.45770564,  0.01087832,  0.01087832,\n",
       "          0.01533364, -0.03536458,  0.01533364, -0.00122534, -0.00122534,\n",
       "          0.46001782,  0.46506856,  0.46001782, -0.02622285, -0.02622285,\n",
       "          0.03622975,  0.00402046,  0.03622975], requires_grad=True),\n",
       " tensor([ 0.50296208,  0.49759534,  0.50296208,  0.0050768 ,  0.0050768 ,\n",
       "          0.01411348, -0.04201415,  0.01411348, -0.00604986, -0.00604986,\n",
       "          0.5052662 ,  0.50974711,  0.5052662 , -0.03608708, -0.03608708,\n",
       "          0.03484485, -0.00282299,  0.03484485], requires_grad=True),\n",
       " tensor([ 0.54818187,  0.5419483 ,  0.54818187, -0.00102364, -0.00102364,\n",
       "          0.01309165, -0.04902018,  0.01309165, -0.0109106 , -0.0109106 ,\n",
       "          0.5504444 ,  0.55410559,  0.5504444 , -0.04631419, -0.04631419,\n",
       "          0.03334559, -0.01019614,  0.03334559], requires_grad=True),\n",
       " tensor([ 0.59280798,  0.58563551,  0.59280798, -0.00753174, -0.00753174,\n",
       "          0.012092  , -0.05667077,  0.012092  , -0.01595177, -0.01595177,\n",
       "          0.59500292,  0.59761096,  0.59500292, -0.05672344, -0.05672344,\n",
       "          0.03171678, -0.01795094,  0.03171678], requires_grad=True),\n",
       " tensor([ 0.63738504,  0.62923585,  0.63738504, -0.01459922, -0.01459922,\n",
       "          0.01107446, -0.06517621,  0.01107446, -0.02131196, -0.02131196,\n",
       "          0.63949543,  0.64081989,  0.63949543, -0.06736667, -0.06736667,\n",
       "          0.03000451, -0.02593594,  0.03000451], requires_grad=True),\n",
       " tensor([ 0.6819098 ,  0.67280849,  0.6819098 , -0.02235433, -0.02235433,\n",
       "          0.0099633 , -0.07469432,  0.0099633 , -0.02712016, -0.02712016,\n",
       "          0.68393214,  0.68376785,  0.68393214, -0.07810518, -0.07810518,\n",
       "          0.02826853, -0.03387078,  0.02826853], requires_grad=True),\n",
       " tensor([ 0.72638278,  0.71643734,  0.72638278, -0.03088541, -0.03088541,\n",
       "          0.00871377, -0.08527694,  0.00871377, -0.03346303, -0.03346303,\n",
       "          0.72833078,  0.72651197,  0.72833078, -0.08876775, -0.08876775,\n",
       "          0.02659133, -0.04140216,  0.02659133], requires_grad=True),\n",
       " tensor([ 0.77080924,  0.76022591,  0.77080924, -0.04021417, -0.04021417,\n",
       "          0.00731618, -0.09685314,  0.00731618, -0.04036143, -0.04036143,\n",
       "          0.77271541,  0.76912773,  0.77271541, -0.09918326, -0.09918326,\n",
       "          0.02506352, -0.04814518,  0.02506352], requires_grad=True),\n",
       " tensor([ 0.81574287,  0.80484687,  0.81574287, -0.05035332, -0.05035332,\n",
       "          0.00585993, -0.10939747,  0.00585993, -0.04780231, -0.04780231,\n",
       "          0.81766297,  0.81222814,  0.81766297, -0.10933701, -0.10933701,\n",
       "          0.02375822, -0.05376787,  0.02375822], requires_grad=True),\n",
       " tensor([ 0.86065525,  0.84986331,  0.86065525, -0.06111134, -0.06111134,\n",
       "          0.00432315, -0.1224846 ,  0.00432315, -0.05562752, -0.05562752,\n",
       "          0.86264771,  0.85536784,  0.86264771, -0.11904201, -0.11904201,\n",
       "          0.02274223, -0.05790397,  0.02274223], requires_grad=True),\n",
       " tensor([ 0.90556724,  0.89536238,  0.90556724, -0.07228726, -0.07228726,\n",
       "          0.00275262, -0.13577328,  0.00275262, -0.06365065, -0.06365065,\n",
       "          0.90768088,  0.89859989,  0.90768088, -0.12831832, -0.12831832,\n",
       "          0.02204361, -0.06036959,  0.02204361], requires_grad=True),\n",
       " tensor([ 0.95050272,  0.94139586,  0.95050272, -0.08365251, -0.08365251,\n",
       "          0.00118921, -0.14892086,  0.00118921, -0.07166685, -0.07166685,\n",
       "          0.9527567 ,  0.94193812,  0.9527567 , -0.13725637, -0.13725637,\n",
       "          0.02166932, -0.0611007 ,  0.02166932], requires_grad=True),\n",
       " tensor([ 9.95486920e-01,  9.87976024e-01,  9.95486920e-01,\n",
       "         -9.49794947e-02, -9.49794947e-02, -3.35069322e-04,\n",
       "         -1.61617059e-01, -3.35069322e-04, -7.94832750e-02,\n",
       "         -7.94832750e-02,  9.97850431e-01,  9.85351533e-01,\n",
       "          9.97850431e-01, -1.45991839e-01, -1.45991839e-01,\n",
       "          2.16168329e-02, -6.01366726e-02,  2.16168329e-02], requires_grad=True),\n",
       " tensor([ 1.04054488,  1.03507901,  1.04054488, -0.10606135, -0.10606135,\n",
       "         -0.001794  , -0.17360148, -0.001794  , -0.08694031, -0.08694031,\n",
       "          1.04291956,  1.0287659 ,  1.04291956, -0.15467677, -0.15467677,\n",
       "          0.02188331, -0.05759311,  0.02188331], requires_grad=True),\n",
       " tensor([ 1.08619844,  1.08325894,  1.08619844, -0.11681013, -0.11681013,\n",
       "         -0.0030992 , -0.18478577, -0.0030992 , -0.09396442, -0.09396442,\n",
       "          1.08840076,  1.07255456,  1.08840076, -0.16368056, -0.16368056,\n",
       "          0.02237845, -0.05359464,  0.02237845], requires_grad=True),\n",
       " tensor([ 1.13198006,  1.13186322,  1.13198006, -0.12699266, -0.12699266,\n",
       "         -0.0042867 , -0.19486114, -0.0042867 , -0.10043805, -0.10043805,\n",
       "          1.13372568,  1.1160826 ,  1.13372568, -0.17293216, -0.17293216,\n",
       "          0.02318439, -0.04837715,  0.02318439], requires_grad=True),\n",
       " tensor([ 1.17791109,  1.18081328,  1.17791109, -0.13649097, -0.13649097,\n",
       "         -0.00532042, -0.20371112, -0.00532042, -0.1063313 , -0.1063313 ,\n",
       "          1.17881755,  1.15918399,  1.17881755, -0.18250126, -0.18250126,\n",
       "          0.0242967 , -0.0421599 ,  0.0242967 ], requires_grad=True),\n",
       " tensor([ 1.22448743,  1.23064032,  1.22448743, -0.14529531, -0.14529531,\n",
       "         -0.00611341, -0.21130936, -0.00611341, -0.11168193, -0.11168193,\n",
       "          1.22402356,  1.20208521,  1.22402356, -0.1927035 , -0.1927035 ,\n",
       "          0.02555838, -0.03521602,  0.02555838], requires_grad=True),\n",
       " tensor([ 1.27171033,  1.28126939,  1.27171033, -0.1533226 , -0.1533226 ,\n",
       "         -0.00663094, -0.21755596, -0.00663094, -0.11652257, -0.11652257,\n",
       "          1.26920415,  1.24453116,  1.26920415, -0.20350866, -0.20350866,\n",
       "          0.02691862, -0.02784377,  0.02691862], requires_grad=True),\n",
       " tensor([ 1.31958595,  1.3326409 ,  1.31958595, -0.16049614, -0.16049614,\n",
       "         -0.00683939, -0.22238963, -0.00683939, -0.12091076, -0.12091076,\n",
       "          1.31423147,  1.28628333,  1.31423147, -0.21476459, -0.21476459,\n",
       "          0.02832098, -0.02033879,  0.02832098], requires_grad=True),\n",
       " tensor([ 1.36849338,  1.38522523,  1.36849338, -0.16679925, -0.16679925,\n",
       "         -0.00667417, -0.22577877, -0.00667417, -0.1249485 , -0.1249485 ,\n",
       "          1.35925546,  1.32735469,  1.35925546, -0.22647845, -0.22647845,\n",
       "          0.02951908, -0.01317533,  0.02951908], requires_grad=True),\n",
       " tensor([ 1.41837801,  1.43893997,  1.41837801, -0.17211774, -0.17211774,\n",
       "         -0.00611635, -0.22769823, -0.00611635, -0.12871697, -0.12871697,\n",
       "          1.40411328,  1.36751917,  1.40411328, -0.238153  , -0.238153  ,\n",
       "          0.03047472, -0.00661568,  0.03047472], requires_grad=True),\n",
       " tensor([ 1.46915960e+00,  1.49368167e+00,  1.46915960e+00,\n",
       "         -1.76307172e-01, -1.76307172e-01, -5.14573208e-03,\n",
       "         -2.28145427e-01, -5.14573208e-03, -1.32287473e-01,\n",
       "         -1.32287473e-01,  1.44872682e+00,  1.40670675e+00,\n",
       "          1.44872682e+00, -2.49124577e-01, -2.49124577e-01,\n",
       "          3.12240076e-02, -7.24180326e-04,  3.12240076e-02], requires_grad=True),\n",
       " tensor([ 1.52096483,  1.54969315,  1.52096483, -0.17920341, -0.17920341,\n",
       "         -0.00369678, -0.22705828, -0.00369678, -0.13572884, -0.13572884,\n",
       "          1.49322588,  1.44509715,  1.49322588, -0.25884301, -0.25884301,\n",
       "          0.0316909 ,  0.00437312,  0.0316909 ], requires_grad=True),\n",
       " tensor([ 1.57349475,  1.60659912,  1.57349475, -0.18057681, -0.18057681,\n",
       "         -0.00169848, -0.22431325, -0.00169848, -0.13903459, -0.13903459,\n",
       "          1.53769344,  1.48297127,  1.53769344, -0.26661084, -0.26661084,\n",
       "          0.0321372 ,  0.00918784,  0.0321372 ], requires_grad=True),\n",
       " tensor([ 1.62591528e+00,  1.66312783e+00,  1.62591528e+00,\n",
       "         -1.80325744e-01, -1.80325744e-01,  8.93848512e-04,\n",
       "         -2.19774332e-01,  8.93848512e-04, -1.42109341e-01,\n",
       "         -1.42109341e-01,  1.58223459e+00,  1.52077425e+00,\n",
       "          1.58223459e+00, -2.72037656e-01, -2.72037656e-01,\n",
       "          3.32704334e-02,  1.51584369e-02,  3.32704334e-02], requires_grad=True),\n",
       " tensor([ 1.67786175,  1.71875394,  1.67786175, -0.17843467, -0.17843467,\n",
       "          0.00422654, -0.21309109,  0.00422654, -0.14484649, -0.14484649,\n",
       "          1.62714709,  1.55903794,  1.62714709, -0.27566494, -0.27566494,\n",
       "          0.03531327,  0.02295261,  0.03531327], requires_grad=True),\n",
       " tensor([ 1.72904037,  1.77306082,  1.72904037, -0.17496996, -0.17496996,\n",
       "          0.00846006, -0.20385728,  0.00846006, -0.14708477, -0.14708477,\n",
       "          1.67266833,  1.59815661,  1.67266833, -0.27852242, -0.27852242,\n",
       "          0.03830987,  0.03284549,  0.03830987], requires_grad=True),\n",
       " tensor([ 1.77928872,  1.82584723,  1.77928872, -0.17005233, -0.17005233,\n",
       "          0.01373384, -0.19171338,  0.01373384, -0.14860346, -0.14860346,\n",
       "          1.71893568,  1.63832592,  1.71893568, -0.28183378, -0.28183378,\n",
       "          0.04207756,  0.04458801,  0.04207756], requires_grad=True),\n",
       " tensor([ 1.82869863,  1.87735752,  1.82869863, -0.1637217 , -0.1637217 ,\n",
       "          0.02021387, -0.17625939,  0.02021387, -0.14911328, -0.14911328,\n",
       "          1.76604606,  1.67960588,  1.76604606, -0.28671002, -0.28671002,\n",
       "          0.04606725,  0.0571949 ,  0.04606725], requires_grad=True),\n",
       " tensor([ 1.87746266,  1.92806006,  1.87746266, -0.15593093, -0.15593093,\n",
       "          0.02809423, -0.15701372,  0.02809423, -0.14820681, -0.14820681,\n",
       "          1.81407213,  1.72200912,  1.81407213, -0.29404577, -0.29404577,\n",
       "          0.0494234 ,  0.06911338,  0.0494234 ], requires_grad=True),\n",
       " tensor([ 1.92558395,  1.9781224 ,  1.92558395, -0.14682388, -0.14682388,\n",
       "          0.03728355, -0.1339967 ,  0.03728355, -0.14530178, -0.14530178,\n",
       "          1.86293627,  1.76545792,  1.86293627, -0.30440307, -0.30440307,\n",
       "          0.05149811,  0.07915394,  0.05149811], requires_grad=True),\n",
       " tensor([ 1.97303654,  2.02761146,  1.97303654, -0.13664454, -0.13664454,\n",
       "          0.04735052, -0.10778297,  0.04735052, -0.13974802, -0.13974802,\n",
       "          1.91244617,  1.80976988,  1.91244617, -0.31788458, -0.31788458,\n",
       "          0.0520037 ,  0.08681627,  0.0520037 ], requires_grad=True)]"
      ]
     },
     "execution_count": 73,
     "metadata": {},
     "output_type": "execute_result"
    }
   ],
   "source": [
    "final_params_v_time"
   ]
  },
  {
   "cell_type": "code",
   "execution_count": 74,
   "id": "a4a6bfb6-6235-48d3-b891-f8aaf1ae6e05",
   "metadata": {},
   "outputs": [
    {
     "data": {
      "text/plain": [
       "[tensor([0.10688482, 0.11366758, 0.10688482], requires_grad=True),\n",
       " tensor([0.10229813, 0.10444212, 0.10229813], requires_grad=True),\n",
       " tensor([0.09556866, 0.09081447, 0.09556866], requires_grad=True),\n",
       " tensor([0.08693481, 0.07329239, 0.08693481], requires_grad=True),\n",
       " tensor([0.07669762, 0.05252368, 0.07669762], requires_grad=True),\n",
       " tensor([0.06520128, 0.02925855, 0.06520128], requires_grad=True),\n",
       " tensor([0.0528177 , 0.00432046, 0.0528177 ], requires_grad=True),\n",
       " tensor([ 0.03993448, -0.02141604,  0.03993448], requires_grad=True),\n",
       " tensor([ 0.02694465, -0.04704444,  0.02694465], requires_grad=True),\n",
       " tensor([ 0.01423659, -0.07164656,  0.01423659], requires_grad=True),\n",
       " tensor([ 0.00218289, -0.09431818,  0.00218289], requires_grad=True),\n",
       " tensor([-0.00887496, -0.11418142, -0.00887496], requires_grad=True),\n",
       " tensor([-0.01867233, -0.13057695, -0.01867233], requires_grad=True),\n",
       " tensor([-0.02697515, -0.14290357, -0.02697515], requires_grad=True),\n",
       " tensor([-0.0336206 , -0.15075064, -0.0336206 ], requires_grad=True),\n",
       " tensor([-0.0385232 , -0.15393266, -0.0385232 ], requires_grad=True),\n",
       " tensor([-0.04158278, -0.15235682, -0.04158278], requires_grad=True),\n",
       " tensor([-0.04289914, -0.14633948, -0.04289914], requires_grad=True),\n",
       " tensor([-0.04257133, -0.13632542, -0.04257133], requires_grad=True),\n",
       " tensor([-0.0407441 , -0.12290022, -0.0407441 ], requires_grad=True),\n",
       " tensor([-0.0376121 , -0.10675861, -0.0376121 ], requires_grad=True),\n",
       " tensor([-0.03342829, -0.08868194, -0.03342829], requires_grad=True),\n",
       " tensor([-0.02826033, -0.069136  , -0.02826033], requires_grad=True),\n",
       " tensor([-0.02270398, -0.04936505, -0.02270398], requires_grad=True),\n",
       " tensor([-0.01720534, -0.03032075, -0.01720534], requires_grad=True),\n",
       " tensor([-0.01192738, -0.0124761 , -0.01192738], requires_grad=True),\n",
       " tensor([-0.0073488 ,  0.00325787, -0.0073488 ], requires_grad=True),\n",
       " tensor([-0.00395048,  0.01602866, -0.00395048], requires_grad=True),\n",
       " tensor([-0.00185241,  0.02555878, -0.00185241], requires_grad=True),\n",
       " tensor([-0.00143009,  0.03125751, -0.00143009], requires_grad=True),\n",
       " tensor([-0.00291998,  0.03280584, -0.00291998], requires_grad=True),\n",
       " tensor([-0.00610181,  0.03057546, -0.00610181], requires_grad=True),\n",
       " tensor([-0.01089883,  0.02477005, -0.01089883], requires_grad=True),\n",
       " tensor([-0.01754595,  0.01520655, -0.01754595], requires_grad=True),\n",
       " tensor([-0.02568511,  0.0025329 , -0.02568511], requires_grad=True),\n",
       " tensor([-0.03501804, -0.0126938 , -0.03501804], requires_grad=True),\n",
       " tensor([-0.04534671, -0.03005372, -0.04534671], requires_grad=True),\n",
       " tensor([-0.05642465, -0.04907029, -0.05642465], requires_grad=True),\n",
       " tensor([-0.06801751, -0.0692925 , -0.06801751], requires_grad=True),\n",
       " tensor([-0.08012158, -0.09047542, -0.08012158], requires_grad=True),\n",
       " tensor([-0.09272524, -0.11221931, -0.09272524], requires_grad=True)]"
      ]
     },
     "execution_count": 74,
     "metadata": {},
     "output_type": "execute_result"
    }
   ],
   "source": [
    "observables"
   ]
  },
  {
   "cell_type": "code",
   "execution_count": 75,
   "id": "f45144ae-4dd4-470c-975f-2392fc80484d",
   "metadata": {},
   "outputs": [],
   "source": [
    "import matplotlib.pyplot as plt"
   ]
  },
  {
   "cell_type": "code",
   "execution_count": 76,
   "id": "14dff892-c476-48ec-825d-c97bd55b2dc9",
   "metadata": {},
   "outputs": [
    {
     "data": {
      "text/plain": [
       "tensor([ 0.32743721,  0.30903838,  0.28195178,  0.24716201,  0.20591892,\n",
       "         0.1596611 ,  0.10995585,  0.05845293,  0.00684486, -0.04317338,\n",
       "        -0.0899524 , -0.13193135, -0.1679216 , -0.19685386, -0.21799184,\n",
       "        -0.23097906, -0.23552238, -0.23213776, -0.22146808, -0.20438842,\n",
       "        -0.18198281, -0.15553852, -0.12565665, -0.094773  , -0.06473144,\n",
       "        -0.03633086, -0.01143973,  0.0081277 ,  0.02185396,  0.02839732,\n",
       "         0.02696588,  0.01837184,  0.00297239, -0.01988535, -0.04883732,\n",
       "        -0.08272988, -0.12074715, -0.16191959, -0.20532752, -0.25071857,\n",
       "        -0.2976698 ], requires_grad=True)"
      ]
     },
     "execution_count": 76,
     "metadata": {},
     "output_type": "execute_result"
    }
   ],
   "source": [
    "np.sum(observables, axis=1)"
   ]
  },
  {
   "cell_type": "code",
   "execution_count": 77,
   "id": "76d61832-e191-4da3-b05b-463eea0c88ac",
   "metadata": {},
   "outputs": [
    {
     "data": {
      "text/plain": [
       "[tensor(0., requires_grad=True),\n",
       " tensor(0.05, requires_grad=True),\n",
       " tensor(0.1, requires_grad=True),\n",
       " tensor(0.15, requires_grad=True),\n",
       " tensor(0.2, requires_grad=True),\n",
       " tensor(0.25, requires_grad=True),\n",
       " tensor(0.3, requires_grad=True),\n",
       " tensor(0.35, requires_grad=True),\n",
       " tensor(0.4, requires_grad=True),\n",
       " tensor(0.45, requires_grad=True),\n",
       " tensor(0.5, requires_grad=True),\n",
       " tensor(0.55, requires_grad=True),\n",
       " tensor(0.6, requires_grad=True),\n",
       " tensor(0.65, requires_grad=True),\n",
       " tensor(0.7, requires_grad=True),\n",
       " tensor(0.75, requires_grad=True),\n",
       " tensor(0.8, requires_grad=True),\n",
       " tensor(0.85, requires_grad=True),\n",
       " tensor(0.9, requires_grad=True),\n",
       " tensor(0.95, requires_grad=True),\n",
       " tensor(1., requires_grad=True),\n",
       " tensor(1.05, requires_grad=True),\n",
       " tensor(1.1, requires_grad=True),\n",
       " tensor(1.15, requires_grad=True),\n",
       " tensor(1.2, requires_grad=True),\n",
       " tensor(1.25, requires_grad=True),\n",
       " tensor(1.3, requires_grad=True),\n",
       " tensor(1.35, requires_grad=True),\n",
       " tensor(1.4, requires_grad=True),\n",
       " tensor(1.45, requires_grad=True),\n",
       " tensor(1.5, requires_grad=True),\n",
       " tensor(1.55, requires_grad=True),\n",
       " tensor(1.6, requires_grad=True),\n",
       " tensor(1.65, requires_grad=True),\n",
       " tensor(1.7, requires_grad=True),\n",
       " tensor(1.75, requires_grad=True),\n",
       " tensor(1.8, requires_grad=True),\n",
       " tensor(1.85, requires_grad=True),\n",
       " tensor(1.9, requires_grad=True),\n",
       " tensor(1.95, requires_grad=True),\n",
       " tensor(2., requires_grad=True)]"
      ]
     },
     "execution_count": 77,
     "metadata": {},
     "output_type": "execute_result"
    }
   ],
   "source": [
    "time"
   ]
  },
  {
   "cell_type": "code",
   "execution_count": 78,
   "id": "1b82ed23-1201-4be3-b575-114a83191493",
   "metadata": {},
   "outputs": [
    {
     "data": {
      "text/plain": [
       "[<matplotlib.lines.Line2D at 0x7fbd00881420>]"
      ]
     },
     "execution_count": 78,
     "metadata": {},
     "output_type": "execute_result"
    },
    {
     "data": {
      "image/png": "[encoded data removed]",
      "text/plain": [
       "<Figure size 640x480 with 1 Axes>"
      ]
     },
     "metadata": {},
     "output_type": "display_data"
    }
   ],
   "source": [
    "# expectation value of pauliX on qubit 0, 1 and 2 versus time.\n",
    "\n",
    "plt.plot(time,np.sum(observables, axis=1))"
   ]
  },
  {
   "cell_type": "code",
   "execution_count": 80,
   "id": "b6e86bc9-9887-4577-9e59-38debf98f9c9",
   "metadata": {},
   "outputs": [
    {
     "data": {
      "text/plain": [
       "0.003820548064922269"
      ]
     },
     "execution_count": 80,
     "metadata": {},
     "output_type": "execute_result"
    }
   ],
   "source": [
    "np.sum(final_costs_v_time)"
   ]
  },
  {
   "cell_type": "code",
   "execution_count": 79,
   "id": "57315fa9-18b6-4e38-ad0b-6012838262a4",
   "metadata": {},
   "outputs": [
    {
     "data": {
      "text/plain": [
       "[<matplotlib.lines.Line2D at 0x7fbd01621750>]"
      ]
     },
     "execution_count": 79,
     "metadata": {},
     "output_type": "execute_result"
    },
    {
     "data": {
      "image/png": "[encoded data removed]",
      "text/plain": [
       "<Figure size 640x480 with 1 Axes>"
      ]
     },
     "metadata": {},
     "output_type": "display_data"
    }
   ],
   "source": [
    "plt.plot(time, final_costs_v_time)"
   ]
  },
  {
   "cell_type": "code",
   "execution_count": null,
   "id": "50a6e7d4-ceb8-4a34-9c5a-9b6078551973",
   "metadata": {},
   "outputs": [],
   "source": []
  }
 ],
 "metadata": {
  "kernelspec": {
   "display_name": "Python 3 (ipykernel)",
   "language": "python",
   "name": "python3"
  },
  "language_info": {
   "codemirror_mode": {
    "name": "ipython",
    "version": 3
   },
   "file_extension": ".py",
   "mimetype": "text/x-python",
   "name": "python",
   "nbconvert_exporter": "python",
   "pygments_lexer": "ipython3",
   "version": "3.10.9"
  }
 },
 "nbformat": 4,
 "nbformat_minor": 5
}
