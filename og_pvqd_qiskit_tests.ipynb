{
 "cells": [
  {
   "cell_type": "markdown",
   "id": "7aa0f6c5-10b3-4fdc-8d5b-e52317d11bfc",
   "metadata": {},
   "source": [
    "# Testing pVQD original qiskit code"
   ]
  },
  {
   "cell_type": "code",
   "execution_count": 21,
   "id": "d1986801-7c59-457d-a6eb-cd03d125b7db",
   "metadata": {},
   "outputs": [],
   "source": [
    "import numpy as np\n",
    "large_width = 400\n",
    "np.set_printoptions(linewidth=large_width)"
   ]
  },
  {
   "cell_type": "code",
   "execution_count": 1,
   "id": "c9fc6b56-cf57-4c7f-af90-06bc9564e434",
   "metadata": {},
   "outputs": [],
   "source": [
    "\tfrom qiskit.opflow          import Z, I\n"
   ]
  },
  {
   "cell_type": "code",
   "execution_count": 2,
   "id": "7c678730-eaae-4d08-be94-495a2936b58d",
   "metadata": {},
   "outputs": [],
   "source": [
    "def projector_zero(n_qubits):\n",
    "\t# This function create the global projector |00...0><00...0|\n",
    "\tfrom qiskit.opflow            import Z, I\n",
    "\t\n",
    "\tprj_list = [0.5*(I+Z) for i in range(n_qubits)]\n",
    "\tprj = prj_list[0]\n",
    "\t\n",
    "\tfor a in range(1,len(prj_list)):\n",
    "\t\tprj = prj^prj_list[a]\n",
    "\t\n",
    "\treturn prj\n",
    "\n",
    "def projector_zero_local(n_qubits):\n",
    "\t# This function creates the local version of the cost function \n",
    "\t# proposed by Cerezo et al: https://www.nature.com/articles/s41467-021-21728-w\n",
    "\tfrom qiskit.opflow          import Z, I\n",
    "\t\n",
    "\ttot_prj = 0\n",
    "\t\n",
    "\tfor k in range(n_qubits):\n",
    "\t\tprj_list = [I for i in range(n_qubits)]\n",
    "\t\tprj_list[k] = 0.5*(I+Z)\n",
    "\t\tprj = prj_list[0]\n",
    "\t\n",
    "\t\tfor a in range(1,len(prj_list)):\n",
    "\t\t\tprj = prj^prj_list[a]\n",
    "\t\n",
    "\t\t#print(prj)\n",
    "\t\n",
    "\t\ttot_prj += prj\n",
    "\t\n",
    "\ttot_prj = (1/n_qubits)*tot_prj\n",
    "\t\n",
    "\treturn tot_prj"
   ]
  },
  {
   "cell_type": "code",
   "execution_count": 28,
   "id": "e80b9201-a515-40ee-8019-dfe07ba7fe5e",
   "metadata": {},
   "outputs": [
    {
     "data": {
      "text/plain": [
       "[array([[1.+0.j, 0.+0.j],\n",
       "        [0.+0.j, 0.+0.j]]),\n",
       " array([[1.+0.j, 0.+0.j],\n",
       "        [0.+0.j, 0.+0.j]]),\n",
       " array([[1.+0.j, 0.+0.j],\n",
       "        [0.+0.j, 0.+0.j]])]"
      ]
     },
     "execution_count": 28,
     "metadata": {},
     "output_type": "execute_result"
    }
   ],
   "source": [
    "[0.5*(I+Z).to_matrix() for i in range(3)]"
   ]
  },
  {
   "cell_type": "code",
   "execution_count": 30,
   "id": "d90458f9-7dbe-4060-bd91-5197fc7dd938",
   "metadata": {},
   "outputs": [],
   "source": [
    "prj_list = [0.5*(I+Z) for i in range(3)]\n",
    "prj = prj_list[0]"
   ]
  },
  {
   "cell_type": "code",
   "execution_count": 35,
   "id": "7d3365fd-8530-4e75-84b9-9fedb9e31e62",
   "metadata": {},
   "outputs": [
    {
     "data": {
      "text/plain": [
       "array([[1.+0.j, 0.+0.j, 0.+0.j, 0.+0.j],\n",
       "       [0.+0.j, 0.+0.j, 0.+0.j, 0.+0.j],\n",
       "       [0.+0.j, 0.+0.j, 0.+0.j, 0.+0.j],\n",
       "       [0.+0.j, 0.+0.j, 0.+0.j, 0.+0.j]])"
      ]
     },
     "execution_count": 35,
     "metadata": {},
     "output_type": "execute_result"
    }
   ],
   "source": [
    "(prj^prj_list[1]).to_matrix()"
   ]
  },
  {
   "cell_type": "code",
   "execution_count": null,
   "id": "d372ac3c-f438-4ba7-a345-8969f3d29eb7",
   "metadata": {},
   "outputs": [],
   "source": []
  },
  {
   "cell_type": "code",
   "execution_count": 25,
   "id": "70c1f474-f19e-43c1-9d24-f56f233fc0be",
   "metadata": {},
   "outputs": [
    {
     "name": "stderr",
     "output_type": "stream",
     "text": [
      "/Users/adam/miniconda3/envs/pvqd/lib/python3.7/site-packages/ipykernel_launcher.py:1: ComplexWarning: Casting complex values to real discards the imaginary part\n",
      "  \"\"\"Entry point for launching an IPython kernel.\n"
     ]
    },
    {
     "data": {
      "text/plain": [
       "array([[1., 0., 0., 0., 0., 0., 0., 0.],\n",
       "       [0., 0., 0., 0., 0., 0., 0., 0.],\n",
       "       [0., 0., 0., 0., 0., 0., 0., 0.],\n",
       "       [0., 0., 0., 0., 0., 0., 0., 0.],\n",
       "       [0., 0., 0., 0., 0., 0., 0., 0.],\n",
       "       [0., 0., 0., 0., 0., 0., 0., 0.],\n",
       "       [0., 0., 0., 0., 0., 0., 0., 0.],\n",
       "       [0., 0., 0., 0., 0., 0., 0., 0.]])"
      ]
     },
     "execution_count": 25,
     "metadata": {},
     "output_type": "execute_result"
    }
   ],
   "source": [
    "projector_zero(3).to_matrix().astype(float)"
   ]
  },
  {
   "cell_type": "code",
   "execution_count": 23,
   "id": "ef8e0ce9-0575-4d4d-9edc-195e12897d3f",
   "metadata": {},
   "outputs": [
    {
     "data": {
      "text/plain": [
       "array([[1.        +0.j, 0.        +0.j, 0.        +0.j, 0.        +0.j, 0.        +0.j, 0.        +0.j, 0.        +0.j, 0.        +0.j],\n",
       "       [0.        +0.j, 0.66666667+0.j, 0.        +0.j, 0.        +0.j, 0.        +0.j, 0.        +0.j, 0.        +0.j, 0.        +0.j],\n",
       "       [0.        +0.j, 0.        +0.j, 0.66666667+0.j, 0.        +0.j, 0.        +0.j, 0.        +0.j, 0.        +0.j, 0.        +0.j],\n",
       "       [0.        +0.j, 0.        +0.j, 0.        +0.j, 0.33333333+0.j, 0.        +0.j, 0.        +0.j, 0.        +0.j, 0.        +0.j],\n",
       "       [0.        +0.j, 0.        +0.j, 0.        +0.j, 0.        +0.j, 0.66666667+0.j, 0.        +0.j, 0.        +0.j, 0.        +0.j],\n",
       "       [0.        +0.j, 0.        +0.j, 0.        +0.j, 0.        +0.j, 0.        +0.j, 0.33333333+0.j, 0.        +0.j, 0.        +0.j],\n",
       "       [0.        +0.j, 0.        +0.j, 0.        +0.j, 0.        +0.j, 0.        +0.j, 0.        +0.j, 0.33333333+0.j, 0.        +0.j],\n",
       "       [0.        +0.j, 0.        +0.j, 0.        +0.j, 0.        +0.j, 0.        +0.j, 0.        +0.j, 0.        +0.j, 0.        +0.j]])"
      ]
     },
     "execution_count": 23,
     "metadata": {},
     "output_type": "execute_result"
    }
   ],
   "source": [
    "projector_zero_local(3).to_matrix()"
   ]
  },
  {
   "cell_type": "code",
   "execution_count": 24,
   "id": "98e61eeb-8814-49e9-874d-d22bc5494d50",
   "metadata": {},
   "outputs": [
    {
     "name": "stderr",
     "output_type": "stream",
     "text": [
      "/Users/adam/miniconda3/envs/pvqd/lib/python3.7/site-packages/ipykernel_launcher.py:1: ComplexWarning: Casting complex values to real discards the imaginary part\n",
      "  \"\"\"Entry point for launching an IPython kernel.\n"
     ]
    },
    {
     "data": {
      "text/plain": [
       "array([[1.        , 0.        , 0.        , 0.        , 0.        , 0.        , 0.        , 0.        ],\n",
       "       [0.        , 0.66666667, 0.        , 0.        , 0.        , 0.        , 0.        , 0.        ],\n",
       "       [0.        , 0.        , 0.66666667, 0.        , 0.        , 0.        , 0.        , 0.        ],\n",
       "       [0.        , 0.        , 0.        , 0.33333333, 0.        , 0.        , 0.        , 0.        ],\n",
       "       [0.        , 0.        , 0.        , 0.        , 0.66666667, 0.        , 0.        , 0.        ],\n",
       "       [0.        , 0.        , 0.        , 0.        , 0.        , 0.33333333, 0.        , 0.        ],\n",
       "       [0.        , 0.        , 0.        , 0.        , 0.        , 0.        , 0.33333333, 0.        ],\n",
       "       [0.        , 0.        , 0.        , 0.        , 0.        , 0.        , 0.        , 0.        ]])"
      ]
     },
     "execution_count": 24,
     "metadata": {},
     "output_type": "execute_result"
    }
   ],
   "source": [
    "projector_zero_local(3).to_matrix().astype(float)"
   ]
  },
  {
   "cell_type": "code",
   "execution_count": 42,
   "id": "4bc783bc-4943-4b11-aa88-1a03bc9bac39",
   "metadata": {},
   "outputs": [],
   "source": [
    "import numpy as np\n",
    "#import matplotlib.pyplot as plt\n",
    "\n",
    "\n",
    "from qiskit.quantum_info \t\t\t  import Pauli\n",
    "from qiskit.opflow      \t\t\t  import PauliOp, SummedOp\n",
    "\n",
    "def generate_pauli(idx_x,idx_z,n):\n",
    "\t'''\n",
    "\tArgs:\n",
    "\t\tn (integer)\n",
    "\t\tidx (list)\n",
    "\tReturns:\n",
    "\t\ttensor product of Pauli operators acting on qubits in idx\n",
    "\t'''\n",
    "\n",
    "\txmask = [0]*n\n",
    "\tzmask = [0]*n\n",
    "\tfor i in idx_x : xmask[i] = 1\n",
    "\tfor i in idx_z : zmask[i] = 1\n",
    "\n",
    "\ta_x = np.asarray(xmask,dtype =np.bool)\n",
    "\ta_z = np.asarray(zmask,dtype =np.bool)\n",
    "\n",
    "\treturn Pauli(a_z,a_x)\n",
    "\n",
    "\n",
    "def generate_ising_pbc(n_spins,coup,field):\n",
    "\t'''\n",
    "\tArgs:\n",
    "\t\tn_spins (integer)\n",
    "\t\tcoup    (float)\n",
    "\t\tfield   (float)\n",
    "\t\t\n",
    "\tReturns:\n",
    "\t\tHamiltonian of Ising model with ZZ interaction a X transverse field, pbc\n",
    "\t'''\n",
    "\n",
    "\tint_list = []\n",
    "\tfield_list = []\n",
    "\n",
    "\tint_list.append(generate_pauli([],[0,n_spins-1],n_spins))\n",
    "\n",
    "\tif(n_spins>2):\n",
    "\t\tfor i in range(n_spins-1):\n",
    "\t\t\tint_list.append(generate_pauli([],[i,i+1],n_spins))\n",
    "\n",
    "\tfor i in range(n_spins):\n",
    "\t\tfield_list.append(generate_pauli([i],[],n_spins))\n",
    "\n",
    "\tint_coeff = [coup]*len(int_list)\n",
    "\tfield_coeff = [field]*len(field_list)\n",
    "\n",
    "\tH = PauliOp(int_list[0],int_coeff[0])\n",
    "\n",
    "\tfor i in range(1,len(int_list)):\n",
    "\t\tH = H + PauliOp(int_list[i],int_coeff[i])\n",
    "\n",
    "\tfor i in range(len(field_list)):\n",
    "\t\tH = H + PauliOp(field_list[i],field_coeff[i])\n",
    "\n",
    "\treturn H, int_list, field_list\n",
    "\t\n",
    "\n",
    "def generate_ising(n_spins,coup,field):\n",
    "\t'''\n",
    "\tArgs:\n",
    "\t\tn_spins (integer)\n",
    "\t\tcoup    (float)\n",
    "\t\tfield   (float)\n",
    "\t\t\n",
    "\tReturns:\n",
    "\t\tHamiltonian of Ising model with ZZ interaction a X transverse field\n",
    "\t'''\n",
    "\n",
    "\tint_list = []\n",
    "\tfield_list = []\n",
    "\n",
    "\n",
    "\tfor i in range(n_spins-1):\n",
    "\t\tint_list.append(generate_pauli([],[i,i+1],n_spins))\n",
    "\n",
    "\tfor i in range(n_spins):\n",
    "\t\tfield_list.append(generate_pauli([i],[],n_spins))\n",
    "\n",
    "\tint_coeff = [coup]*len(int_list)\n",
    "\tfield_coeff = [field]*len(field_list)\n",
    "\n",
    "\tH = PauliOp(int_list[0],int_coeff[0])\n",
    "\n",
    "\tfor i in range(1,len(int_list)):\n",
    "\t\tH = H + PauliOp(int_list[i],int_coeff[i])\n",
    "\n",
    "\tfor i in range(len(field_list)):\n",
    "\t\tH = H + PauliOp(field_list[i],field_coeff[i])\n",
    "\n",
    "\treturn H, int_list, field_list\n",
    "\n"
   ]
  },
  {
   "cell_type": "code",
   "execution_count": 43,
   "id": "9b64f90f-99c7-4326-b0fd-7376c64757c6",
   "metadata": {},
   "outputs": [
    {
     "name": "stderr",
     "output_type": "stream",
     "text": [
      "/Users/adam/miniconda3/envs/pvqd/lib/python3.7/site-packages/ipykernel_launcher.py:22: DeprecationWarning: `np.bool` is a deprecated alias for the builtin `bool`. To silence this warning, use `bool` by itself. Doing this will not modify any behavior and is safe. If you specifically wanted the numpy scalar type, use `np.bool_` here.\n",
      "Deprecated in NumPy 1.20; for more details and guidance: https://numpy.org/devdocs/release/1.20.0-notes.html#deprecations\n",
      "/Users/adam/miniconda3/envs/pvqd/lib/python3.7/site-packages/ipykernel_launcher.py:23: DeprecationWarning: `np.bool` is a deprecated alias for the builtin `bool`. To silence this warning, use `bool` by itself. Doing this will not modify any behavior and is safe. If you specifically wanted the numpy scalar type, use `np.bool_` here.\n",
      "Deprecated in NumPy 1.20; for more details and guidance: https://numpy.org/devdocs/release/1.20.0-notes.html#deprecations\n"
     ]
    }
   ],
   "source": [
    "h, i, f = generate_ising(3, .25, 1)"
   ]
  },
  {
   "cell_type": "code",
   "execution_count": 44,
   "id": "214aa9b6-ea5a-4456-a404-2e81cefce16c",
   "metadata": {},
   "outputs": [
    {
     "data": {
      "text/plain": [
       "[Pauli('IZZ'), Pauli('ZZI')]"
      ]
     },
     "execution_count": 44,
     "metadata": {},
     "output_type": "execute_result"
    }
   ],
   "source": [
    "i"
   ]
  },
  {
   "cell_type": "code",
   "execution_count": 45,
   "id": "d3e7b20a-bfcb-4e7e-a869-ad9fb85cdab6",
   "metadata": {},
   "outputs": [
    {
     "data": {
      "text/plain": [
       "[Pauli('IIX'), Pauli('IXI'), Pauli('XII')]"
      ]
     },
     "execution_count": 45,
     "metadata": {},
     "output_type": "execute_result"
    }
   ],
   "source": [
    "f"
   ]
  },
  {
   "cell_type": "code",
   "execution_count": 46,
   "id": "649c84a7-2d9f-41ca-aa65-cb760c3daea0",
   "metadata": {},
   "outputs": [
    {
     "name": "stderr",
     "output_type": "stream",
     "text": [
      "/Users/adam/miniconda3/envs/pvqd/lib/python3.7/site-packages/ipykernel_launcher.py:22: DeprecationWarning: `np.bool` is a deprecated alias for the builtin `bool`. To silence this warning, use `bool` by itself. Doing this will not modify any behavior and is safe. If you specifically wanted the numpy scalar type, use `np.bool_` here.\n",
      "Deprecated in NumPy 1.20; for more details and guidance: https://numpy.org/devdocs/release/1.20.0-notes.html#deprecations\n",
      "/Users/adam/miniconda3/envs/pvqd/lib/python3.7/site-packages/ipykernel_launcher.py:23: DeprecationWarning: `np.bool` is a deprecated alias for the builtin `bool`. To silence this warning, use `bool` by itself. Doing this will not modify any behavior and is safe. If you specifically wanted the numpy scalar type, use `np.bool_` here.\n",
      "Deprecated in NumPy 1.20; for more details and guidance: https://numpy.org/devdocs/release/1.20.0-notes.html#deprecations\n"
     ]
    }
   ],
   "source": [
    "h, i, f = generate_ising_pbc(3, .25, 1)"
   ]
  },
  {
   "cell_type": "code",
   "execution_count": 47,
   "id": "b85fe59b-5f95-47a5-81fe-b6b9aceff4eb",
   "metadata": {},
   "outputs": [
    {
     "data": {
      "text/plain": [
       "PauliSumOp(SparsePauliOp([[False, False, False,  True, False,  True],\n",
       "               [False, False, False,  True,  True, False],\n",
       "               [False, False, False, False,  True,  True],\n",
       "               [ True, False, False, False, False, False],\n",
       "               [False,  True, False, False, False, False],\n",
       "               [False, False,  True, False, False, False]],\n",
       "              coeffs=[0.25+0.j, 0.25+0.j, 0.25+0.j, 1.  +0.j, 1.  +0.j, 1.  +0.j]), coeff=1.0)"
      ]
     },
     "execution_count": 47,
     "metadata": {},
     "output_type": "execute_result"
    }
   ],
   "source": [
    "h"
   ]
  },
  {
   "cell_type": "code",
   "execution_count": 48,
   "id": "c8d16292-8230-40b6-8340-d3bc92b158ba",
   "metadata": {},
   "outputs": [
    {
     "data": {
      "text/plain": [
       "[Pauli('ZIZ'), Pauli('IZZ'), Pauli('ZZI')]"
      ]
     },
     "execution_count": 48,
     "metadata": {},
     "output_type": "execute_result"
    }
   ],
   "source": [
    "i"
   ]
  },
  {
   "cell_type": "code",
   "execution_count": 49,
   "id": "37bd6f4a-05f9-4a97-a61d-626dd46fe43d",
   "metadata": {},
   "outputs": [
    {
     "data": {
      "text/plain": [
       "[Pauli('IIX'), Pauli('IXI'), Pauli('XII')]"
      ]
     },
     "execution_count": 49,
     "metadata": {},
     "output_type": "execute_result"
    }
   ],
   "source": [
    "f"
   ]
  },
  {
   "cell_type": "code",
   "execution_count": null,
   "id": "3f92ff23-3819-4c75-a4a6-bf4c0038f11b",
   "metadata": {},
   "outputs": [],
   "source": []
  }
 ],
 "metadata": {
  "kernelspec": {
   "display_name": "Python 3 (ipykernel)",
   "language": "python",
   "name": "python3"
  },
  "language_info": {
   "codemirror_mode": {
    "name": "ipython",
    "version": 3
   },
   "file_extension": ".py",
   "mimetype": "text/x-python",
   "name": "python",
   "nbconvert_exporter": "python",
   "pygments_lexer": "ipython3",
   "version": "3.10.9"
  }
 },
 "nbformat": 4,
 "nbformat_minor": 5
}
