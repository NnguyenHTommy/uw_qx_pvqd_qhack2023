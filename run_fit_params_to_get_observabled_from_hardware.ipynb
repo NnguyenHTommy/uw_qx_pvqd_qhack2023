{
 "cells": [
  {
   "cell_type": "code",
   "execution_count": 2,
   "id": "ee518d97-c018-45bb-adc5-8435ebe76175",
   "metadata": {},
   "outputs": [],
   "source": [
    "import pennylane as qml\n",
    "import pennylane.numpy as np"
   ]
  },
  {
   "cell_type": "code",
   "execution_count": 3,
   "id": "e22a79eb-dcbf-435d-a9e6-11381e7d866b",
   "metadata": {},
   "outputs": [],
   "source": [
    "import matplotlib.pyplot as plt"
   ]
  },
  {
   "cell_type": "code",
   "execution_count": 4,
   "id": "b33327c7-f900-4bf5-9bf5-2641fbc613d9",
   "metadata": {},
   "outputs": [],
   "source": [
    "import json"
   ]
  },
  {
   "cell_type": "code",
   "execution_count": 5,
   "id": "73568c1a-5eb9-4207-8fac-94119da63d0e",
   "metadata": {},
   "outputs": [],
   "source": [
    "import vqd"
   ]
  },
  {
   "cell_type": "code",
   "execution_count": 6,
   "id": "2376496c-6f52-42cb-8fc5-e9de89443c95",
   "metadata": {},
   "outputs": [],
   "source": [
    "d_observables = qml.data.Dataset()\n",
    "d_observables.read('observable_results.dat')"
   ]
  },
  {
   "cell_type": "code",
   "execution_count": 7,
   "id": "fbc8a259-4b01-4238-a62f-32a614bd6384",
   "metadata": {},
   "outputs": [],
   "source": [
    "# only the n_qubits value actually matters here since we're not doing optimization\n",
    "# but the VQD class takes them all during instantiation\n",
    "total_time = 2.0\n",
    "#total_time = 0.5\n",
    "dt = 0.05\n",
    "max_iterations = 500\n",
    "cost_threshold = 0.0001\n",
    "n_qubits = 3 # this needs to be 3, however!\n",
    "interface = 'autograd'"
   ]
  },
  {
   "cell_type": "code",
   "execution_count": 11,
   "id": "2884e447-7ccb-413c-9789-213213d6b107",
   "metadata": {},
   "outputs": [],
   "source": [
    "device_type = \"qiskit.ibmq\" # change this to run on real device"
   ]
  },
  {
   "cell_type": "code",
   "execution_count": 16,
   "id": "edf5f103-19de-4f8f-95f8-03617bf7de23",
   "metadata": {},
   "outputs": [],
   "source": [
    "backend=\"ibm_nairobi\"\n",
    "\n",
    "dev = ibm_device = qml.device(device_type, wires=n_qubits, backend=backend, \n",
    "                              hub='qhack-event', group='main', project='level-1',\n",
    "                 ibmqx_token='') #insert token string!!\n",
    "\n",
    "# dev = ibm_device = qml.device(device_type, wires=n_qubits, backend=backend, \n",
    "#                  ibmqx_token='') #insert token string!!"
   ]
  },
  {
   "cell_type": "code",
   "execution_count": null,
   "id": "edf7be4f-0538-4ba4-8b90-7a240fcf37c8",
   "metadata": {},
   "outputs": [
    {
     "name": "stdout",
     "output_type": "stream",
     "text": [
      "time :0.0\n",
      "circuit params\n",
      "[-4.44711906e-02 -4.44711906e-02 -4.44711906e-02  1.08221219e-18\n",
      "  1.08221219e-18  8.13579212e-20  1.32080411e-19  8.13579212e-20\n",
      "  1.08501384e-18  1.08501384e-18 -4.44711906e-02 -4.44711906e-02\n",
      " -4.44711906e-02  1.07826771e-18  1.07826771e-18  8.62663024e-20\n",
      "  1.08728871e-19  8.62663024e-20]\n",
      "running circuits\n"
     ]
    },
    {
     "name": "stderr",
     "output_type": "stream",
     "text": [
      "/Users/adam/miniconda3/envs/pvqd2/lib/python3.10/site-packages/pennylane_qiskit/qiskit_device.py:448: UserWarning: hub is not a recognized runtime option and may be ignored by the backend.\n",
      "  self._current_job = self.backend.run(compiled_circuits, shots=self.shots, **self.run_args)\n",
      "/Users/adam/miniconda3/envs/pvqd2/lib/python3.10/site-packages/pennylane_qiskit/qiskit_device.py:448: UserWarning: group is not a recognized runtime option and may be ignored by the backend.\n",
      "  self._current_job = self.backend.run(compiled_circuits, shots=self.shots, **self.run_args)\n",
      "/Users/adam/miniconda3/envs/pvqd2/lib/python3.10/site-packages/pennylane_qiskit/qiskit_device.py:448: UserWarning: project is not a recognized runtime option and may be ignored by the backend.\n",
      "  self._current_job = self.backend.run(compiled_circuits, shots=self.shots, **self.run_args)\n"
     ]
    }
   ],
   "source": [
    "shots = 800 # Change this value\n",
    "\n",
    "# extract optimized circuit parameters from simulations\n",
    "results = d_observables.observable_results[shots]\n",
    "\n",
    "# create data storage structures\n",
    "observable_results = {}\n",
    "observables = []\n",
    "variances = []\n",
    "time_vals = []\n",
    "observable_results[shots] = {}\n",
    "\n",
    "# use the VQD class\n",
    "vqdrunner = vqd.VQD(interface, \n",
    "                        total_time, \n",
    "                        dt, \n",
    "                        max_iterations, \n",
    "                        cost_threshold, \n",
    "                        n_qubits, \n",
    "                        shots=shots, \n",
    "                        optimization_step_size=0.05,\n",
    "                        predefined_observable_device = ibm_device)\n",
    "\n",
    "# loop through time steps to run circuit with parameters\n",
    "for a_time, params in zip(results['time'], results['final_params_v_time']):\n",
    "    print(f\"time :{a_time}\")\n",
    "    print(\"circuit params\")\n",
    "    print(params)\n",
    "    \n",
    "    time_vals.append(a_time)\n",
    "    print('running circuits')\n",
    "    observables.append(vqdrunner.qnode_three_spins_observables(params, shots=shots))\n",
    "    variances.append(vqdrunner.qnode_three_spins_observables_variance(params, shots=shots))\n",
    "    print('')\n",
    "    \n",
    "observable_results[shots]['observables'] = observables\n",
    "observable_results[shots]['variances'] = variances\n",
    "observable_results[shots]['time'] = time_vals\n",
    "    \n",
    "d_observables_on_device = qml.data.Dataset(on_device_observable_results = observable_results)\n",
    "d_observables_on_device.write(f'{device_type}_{backend}_shots{shots}_observable_results.dat')"
   ]
  },
  {
   "cell_type": "code",
   "execution_count": null,
   "id": "31377092-ba6b-4e10-b71c-2be8359e87cb",
   "metadata": {},
   "outputs": [],
   "source": [
    "def get_total_mag(results, shots):\n",
    "    sig_x = np.tensor(results['observables'])[:,:3]\n",
    "    sig_z = np.tensor(results['observables'])[:,3:]\n",
    "    std_sig_x = np.sqrt(np.tensor(results['variances'])[:,:3]/shots)\n",
    "    std_sig_z = np.sqrt(np.tensor(results['variances'])[:,3:]/shots)\n",
    "\n",
    "    sum_sig_x = np.sum(sig_x, axis=1)\n",
    "    sum_sig_z = np.sum(sig_z, axis=1)\n",
    "    sum_sig_x_std = np.sqrt(np.sum(std_sig_x**2, axis=1))\n",
    "    sum_sig_z_std = np.sqrt(np.sum(std_sig_z**2, axis=1))\n",
    "    \n",
    "    return sum_sig_x, sum_sig_z, sum_sig_x_std, sum_sig_z_std"
   ]
  },
  {
   "cell_type": "code",
   "execution_count": null,
   "id": "08d3b22a-5c6a-4f55-9563-eddcf0c4e932",
   "metadata": {},
   "outputs": [],
   "source": [
    "fig, ax = plt.subplots(figsize=(8,4))\n",
    "for s, results in observable_results.items():\n",
    "    sum_sig_x, sum_sig_z, sum_sig_x_std, sum_sig_z_std = get_total_mag(results, s)\n",
    "    ax.errorbar(results['time'],sum_sig_x/3, sum_sig_x_std/3, fmt = '.', label=f'{s} shots')\n",
    "    ax.set_ylabel('$\\Sigma_i <\\sigma_{x,i}>/3$')\n",
    "    \n",
    "exact = json.load(open('exact_solutions.dat'))\n",
    "ax.plot(exact['times'][:40],exact['Sx'][:40],label =\"Exact\",linestyle='dashed',linewidth=1.2,color='black')\n",
    "ax.set_title(f'Results from running on {device_type}:{backend}')\n",
    "ax.legend()\n"
   ]
  },
  {
   "cell_type": "code",
   "execution_count": null,
   "id": "3ba79c91-74d5-4d6b-9244-5ba2356a7311",
   "metadata": {},
   "outputs": [],
   "source": [
    "fig, ax = plt.subplots(figsize=(8,4))\n",
    "for s, results in observable_results.items():\n",
    "    sum_sig_x, sum_sig_z, sum_sig_x_std, sum_sig_z_std = get_total_mag(results, s)\n",
    "    ax.errorbar(results['time'],sum_sig_z/3, sum_sig_z_std/3, fmt = '.', label=f'{s} shots')\n",
    "    ax.set_ylabel('$\\Sigma_i <\\sigma_{z,i}>/3$')\n",
    "\n",
    "exact = json.load(open('exact_solutions.dat'))\n",
    "ax.plot(exact['times'][:40],exact['Sz'][:40],label =\"Exact\",linestyle='dashed',linewidth=1.2,color='black')\n",
    "ax.legend()"
   ]
  },
  {
   "cell_type": "code",
   "execution_count": null,
   "id": "9e5e0469-20e4-46a4-9d39-bda58b16644f",
   "metadata": {},
   "outputs": [],
   "source": [
    "shots = 8000 # Change this value\n",
    "\n",
    "# extract optimized circuit parameters from simulations\n",
    "results = d_observables.observable_results[shots]\n",
    "\n",
    "# create data storage structures\n",
    "observable_results = {}\n",
    "observables = []\n",
    "variances = []\n",
    "time_vals = []\n",
    "observable_results[shots] = {}\n",
    "\n",
    "# use the VQD class\n",
    "vqdrunner = vqd.VQD(interface, \n",
    "                        total_time, \n",
    "                        dt, \n",
    "                        max_iterations, \n",
    "                        cost_threshold, \n",
    "                        n_qubits, \n",
    "                        shots=shots, \n",
    "                        optimization_step_size=0.05,\n",
    "                        predefined_observable_device = ibm_device)\n",
    "\n",
    "# loop through time steps to run circuit with parameters\n",
    "for a_time, params in zip(results['time'], results['final_params_v_time']):\n",
    "    print(f\"time :{a_time}\")\n",
    "    print(\"circuit params\")\n",
    "    print(params)\n",
    "    \n",
    "    time_vals.append(a_time)\n",
    "    print('running circuits')\n",
    "    observables.append(vqdrunner.qnode_three_spins_observables(params, shots=shots))\n",
    "    variances.append(vqdrunner.qnode_three_spins_observables_variance(params, shots=shots))\n",
    "    print('')\n",
    "    \n",
    "observable_results[shots]['observables'] = observables\n",
    "observable_results[shots]['variances'] = variances\n",
    "observable_results[shots]['time'] = time_vals\n",
    "    \n",
    "d_observables_on_device = qml.data.Dataset(on_device_observable_results = observable_results)\n",
    "d_observables_on_device.write(f'{device_type}_{backend}_shots{shots}_observable_results.dat')"
   ]
  },
  {
   "cell_type": "code",
   "execution_count": null,
   "id": "993d4f78-42c7-467e-ae2b-2a8425157f45",
   "metadata": {},
   "outputs": [],
   "source": [
    "# plotting tools"
   ]
  },
  {
   "cell_type": "code",
   "execution_count": null,
   "id": "e6081674-93a8-450e-95ec-1ad876b31401",
   "metadata": {},
   "outputs": [],
   "source": [
    "def get_total_mag(results, shots):\n",
    "    sig_x = np.tensor(results['observables'])[:,:3]\n",
    "    sig_z = np.tensor(results['observables'])[:,3:]\n",
    "    std_sig_x = np.sqrt(np.tensor(results['variances'])[:,:3]/shots)\n",
    "    std_sig_z = np.sqrt(np.tensor(results['variances'])[:,3:]/shots)\n",
    "\n",
    "    sum_sig_x = np.sum(sig_x, axis=1)\n",
    "    sum_sig_z = np.sum(sig_z, axis=1)\n",
    "    sum_sig_x_std = np.sqrt(np.sum(std_sig_x**2, axis=1))\n",
    "    sum_sig_z_std = np.sqrt(np.sum(std_sig_z**2, axis=1))\n",
    "    \n",
    "    return sum_sig_x, sum_sig_z, sum_sig_x_std, sum_sig_z_std"
   ]
  },
  {
   "cell_type": "code",
   "execution_count": null,
   "id": "a7e7f57b-89af-441d-a669-28fae93eda94",
   "metadata": {},
   "outputs": [],
   "source": [
    "fig, ax = plt.subplots(figsize=(8,4))\n",
    "for s, results in observable_results.items():\n",
    "    sum_sig_x, sum_sig_z, sum_sig_x_std, sum_sig_z_std = get_total_mag(results, s)\n",
    "    ax.errorbar(results['time'],sum_sig_x/3, sum_sig_x_std/3, fmt = '.', label=f'{s} shots')\n",
    "    ax.set_ylabel('$\\Sigma_i <\\sigma_{x,i}>/3$')\n",
    "    \n",
    "exact = json.load(open('exact_solutions.dat'))\n",
    "ax.plot(exact['times'][:40],exact['Sx'][:40],label =\"Exact\",linestyle='dashed',linewidth=1.2,color='black')\n",
    "ax.set_title(f'Results from running on {device_type}:{backend}')\n",
    "ax.legend()\n"
   ]
  },
  {
   "cell_type": "code",
   "execution_count": null,
   "id": "e029c6e8-a9da-4abd-8348-c04d23405a65",
   "metadata": {},
   "outputs": [],
   "source": [
    "fig, ax = plt.subplots(figsize=(8,4))\n",
    "for s, results in observable_results.items():\n",
    "    sum_sig_x, sum_sig_z, sum_sig_x_std, sum_sig_z_std = get_total_mag(results, s)\n",
    "    ax.errorbar(results['time'],sum_sig_z/3, sum_sig_z_std/3, fmt = '.', label=f'{s} shots')\n",
    "    ax.set_ylabel('$\\Sigma_i <\\sigma_{z,i}>/3$')\n",
    "\n",
    "exact = json.load(open('exact_solutions.dat'))\n",
    "ax.plot(exact['times'][:40],exact['Sz'][:40],label =\"Exact\",linestyle='dashed',linewidth=1.2,color='black')\n",
    "ax.legend()"
   ]
  },
  {
   "cell_type": "code",
   "execution_count": null,
   "id": "a68a3e94-7e96-4746-a8ad-e077f535ce00",
   "metadata": {},
   "outputs": [],
   "source": []
  }
 ],
 "metadata": {
  "kernelspec": {
   "display_name": "Python 3 (ipykernel)",
   "language": "python",
   "name": "python3"
  },
  "language_info": {
   "codemirror_mode": {
    "name": "ipython",
    "version": 3
   },
   "file_extension": ".py",
   "mimetype": "text/x-python",
   "name": "python",
   "nbconvert_exporter": "python",
   "pygments_lexer": "ipython3",
   "version": "3.10.9"
  }
 },
 "nbformat": 4,
 "nbformat_minor": 5
}
